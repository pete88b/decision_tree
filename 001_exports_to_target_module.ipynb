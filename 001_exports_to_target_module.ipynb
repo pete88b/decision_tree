{
 "cells": [
  {
   "cell_type": "code",
   "execution_count": null,
   "metadata": {},
   "outputs": [],
   "source": [
    "# default_exp exports_to_target_module"
   ]
  },
  {
   "cell_type": "code",
   "execution_count": null,
   "metadata": {},
   "outputs": [],
   "source": [
    "#hide\n",
    "from nbdev.showdoc import *"
   ]
  },
  {
   "cell_type": "code",
   "execution_count": null,
   "metadata": {},
   "outputs": [],
   "source": [
    "# exports\n",
    "\n",
    "class A:\n",
    "    \"\"\"The Class A.\"\"\"\n",
    "    def __init__(self, value):\n",
    "        self.value = value"
   ]
  },
  {
   "cell_type": "code",
   "execution_count": null,
   "metadata": {},
   "outputs": [],
   "source": [
    "# exports target_module\n",
    "\n",
    "class B:\n",
    "    \"\"\"The Class B.\"\"\"\n",
    "    def __init__(self, value):\n",
    "        self.value = value"
   ]
  },
  {
   "cell_type": "markdown",
   "metadata": {},
   "source": [
    "```\n",
    "This is the \"right\" way round\n",
    "rm decision_tree/target_module.py \n",
    "rm decision_tree/exports_to_target_module.py \n",
    "nbdev_build_lib --fname=00[0-1]_*.ipynb\n",
    "nbdev_build_docs --fname=00[0-1]_*.ipynb --force_all=True\n",
    "\n",
    "This is the \"wrong\" way - but it work now: https://github.com/fastai/nbdev/pull/165\n",
    "rm decision_tree/target_module.py \n",
    "rm decision_tree/exports_to_target_module.py \n",
    "nbdev_build_lib --fname=00[1-2]_*.ipynb\n",
    "nbdev_build_docs --fname=00[1-2]_*.ipynb --force_all=True\n",
    "\n",
    "Check warnings \n",
    "- 1st `nbdev_build_lib --fname=001_*.ipynb` will warn then fail (file not found)\n",
    "- 2nd will warn then duplicate class B in target_module\n",
    "rm decision_tree/target_module.py \n",
    "rm decision_tree/exports_to_target_module.py\n",
    "nbdev_build_lib --fname=001_*.ipynb\n",
    "\n",
    "nbdev_build_lib --fname=000_*.ipynb\n",
    "nbdev_build_lib --fname=001_*.ipynb\n",
    "```"
   ]
  }
 ],
 "metadata": {
  "kernelspec": {
   "display_name": "Python 3",
   "language": "python",
   "name": "python3"
  }
 },
 "nbformat": 4,
 "nbformat_minor": 4
}
