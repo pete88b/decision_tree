{
 "cells": [
  {
   "cell_type": "code",
   "execution_count": null,
   "metadata": {},
   "outputs": [],
   "source": [
    "# default_exp core"
   ]
  },
  {
   "cell_type": "markdown",
   "metadata": {},
   "source": [
    "# core\n",
    "\n",
    "> Low level utilities."
   ]
  },
  {
   "cell_type": "code",
   "execution_count": null,
   "metadata": {},
   "outputs": [],
   "source": [
    "#hide\n",
    "from nbdev.showdoc import *"
   ]
  },
  {
   "cell_type": "code",
   "execution_count": null,
   "metadata": {},
   "outputs": [],
   "source": [
    "#export\n",
    "from decision_tree.imports import *"
   ]
  },
  {
   "cell_type": "markdown",
   "metadata": {},
   "source": [
    "## Utilities"
   ]
  },
  {
   "cell_type": "code",
   "execution_count": null,
   "metadata": {},
   "outputs": [],
   "source": [
    "#exports\n",
    "def split_array(data, idx): return data[:idx], data[idx:]"
   ]
  },
  {
   "cell_type": "code",
   "execution_count": null,
   "metadata": {},
   "outputs": [],
   "source": [
    "#export\n",
    "def r3(x):\n",
    "    \"return a scalar value rounded to 3dp or the values of iterable, rounded to 3dp in a new array/tuple \"\n",
    "    try: return round(x, 3)\n",
    "    except: pass\n",
    "    res = [round(v, 3) for v in x]\n",
    "    return tuple(res) if isinstance(x, tuple) else res"
   ]
  },
  {
   "cell_type": "code",
   "execution_count": null,
   "metadata": {},
   "outputs": [],
   "source": [
    "test_in = [3.3, 1.1, 2.02, 3.003, 4.0004]\n",
    "test_result = r3(test_in)\n",
    "assert test_in is not test_result\n",
    "assert [3.3, 1.1, 2.02, 3.003, 4.0] == test_result\n",
    "test_in = tuple(test_in)\n",
    "test_result = r3(test_in)\n",
    "assert test_in is not test_result\n",
    "assert (3.3, 1.1, 2.02, 3.003, 4.0) == test_result"
   ]
  },
  {
   "cell_type": "markdown",
   "metadata": {},
   "source": [
    "For efficiency, we need to be able to calculate standard deviations without processing all data with `np.std`.\n",
    "\n",
    "By keeping track of;\n",
    "- count of items `c`\n",
    "- sum of items `s`\n",
    "- sum of items squared `s2`\n",
    "\n",
    "we can calculate variance with; `(s2/c) - (s/c)**2`\n",
    "\n",
    "Note: we have to clamp `var` at zero. When working with small numbers, they sometimes end up -ve due to numerical instability.\n",
    "It might be interesting to do a moving average implementation like: https://github.com/pete88b/data-science/blob/master/pytorch-things/calculating-variance.ipynb"
   ]
  },
  {
   "cell_type": "code",
   "execution_count": null,
   "metadata": {},
   "outputs": [],
   "source": [
    "# exporti\n",
    "def agg_var(c, s, s2):\n",
    "    \"return the variance of `c`, `s` and `s2` - i.e. one side of `y`\"\n",
    "    return max((s2/c) - (s/c)**2, 0)\n",
    "def agg_std(c, s, s2):\n",
    "    \"return the standard deviation of `c`, `s` and `s2`\"\n",
    "    return np.sqrt(agg_var(c, s, s2))\n",
    "def agg_score(c, s, s2):\n",
    "    \"return the score of `c`, `s` and `s2`\"\n",
    "    return 0 if c == 1 else agg_std(c, s, s2)*c"
   ]
  },
  {
   "cell_type": "code",
   "execution_count": null,
   "metadata": {},
   "outputs": [],
   "source": [
    "#export\n",
    "class Aggs():\n",
    "    \"keeps track of `c`, `s` and `s2` and provides access to `score`\"\n",
    "    def __init__(self, y):\n",
    "        \"create a new `Aggs` assuming you're going to iterate over `y`\"\n",
    "        self.c, self.s, self.s2 = (0, 0., 0.) # these will get updated\n",
    "        self._c, self._s, self._s2 = len(y), y.sum(), (y**2).sum() # initial values are fixed\n",
    "    def upd(self, yi):\n",
    "        \"update `c`, `s` and `s2` values with the next `y` value\"\n",
    "        self.c += 1\n",
    "        self.s += yi\n",
    "        self.s2 += yi**2\n",
    "    def score(self):\n",
    "        \"return the sum of the standard deviation for both sides of `y`\"\n",
    "        c, s, s2 = self.c, self.s, self.s2\n",
    "        _c, _s, _s2 = self._c, self._s, self._s2\n",
    "        return agg_score(c, s, s2) + agg_score(_c-c, _s-s, _s2-s2)"
   ]
  },
  {
   "cell_type": "code",
   "execution_count": null,
   "metadata": {},
   "outputs": [
    {
     "data": {
      "text/markdown": [
       "<h4 id=\"Aggs.__init__\" class=\"doc_header\"><code>Aggs.__init__</code><a href=\"__main__.py#L4\" class=\"source_link\" style=\"float:right\">[source]</a></h4>\n",
       "\n",
       "> <code>Aggs.__init__</code>(**`y`**)\n",
       "\n",
       "create a new [`Aggs`](/decision_tree/core#Aggs) assuming you're going to iterate over `y`"
      ],
      "text/plain": [
       "<IPython.core.display.Markdown object>"
      ]
     },
     "metadata": {},
     "output_type": "display_data"
    }
   ],
   "source": [
    "show_doc(Aggs.__init__)"
   ]
  },
  {
   "cell_type": "code",
   "execution_count": null,
   "metadata": {},
   "outputs": [
    {
     "data": {
      "text/markdown": [
       "<h4 id=\"Aggs.upd\" class=\"doc_header\"><code>Aggs.upd</code><a href=\"__main__.py#L8\" class=\"source_link\" style=\"float:right\">[source]</a></h4>\n",
       "\n",
       "> <code>Aggs.upd</code>(**`yi`**)\n",
       "\n",
       "update [`c`](/decision_tree/test_show_doc#c), `s` and `s2` values with the next `y` value"
      ],
      "text/plain": [
       "<IPython.core.display.Markdown object>"
      ]
     },
     "metadata": {},
     "output_type": "display_data"
    }
   ],
   "source": [
    "show_doc(Aggs.upd)"
   ]
  },
  {
   "cell_type": "code",
   "execution_count": null,
   "metadata": {},
   "outputs": [
    {
     "data": {
      "text/markdown": [
       "<h4 id=\"Aggs.score\" class=\"doc_header\"><code>Aggs.score</code><a href=\"__main__.py#L13\" class=\"source_link\" style=\"float:right\">[source]</a></h4>\n",
       "\n",
       "> <code>Aggs.score</code>()\n",
       "\n",
       "return the sum of the standard deviation for both sides of `y`"
      ],
      "text/plain": [
       "<IPython.core.display.Markdown object>"
      ]
     },
     "metadata": {},
     "output_type": "display_data"
    }
   ],
   "source": [
    "show_doc(Aggs.score)"
   ]
  },
  {
   "cell_type": "code",
   "execution_count": null,
   "metadata": {},
   "outputs": [],
   "source": [
    "def np_score(y): return np.std(y)*len(y)\n",
    "y = np.linspace(-2.5, 2.5, 11)\n",
    "aggs = Aggs(y)\n",
    "assert aggs._c == 11\n",
    "for i in range(len(y)-1): \n",
    "    aggs.upd(y[i])\n",
    "    y_le, y_gt = split_array(y, i+1)\n",
    "    assert len(y_le) == aggs.c\n",
    "    assert r3(aggs.score()) == r3(np_score(y_le) + np_score(y_gt))\n",
    "assert 14.361 == r3(aggs.score())"
   ]
  },
  {
   "cell_type": "markdown",
   "metadata": {},
   "source": [
    "## Loss Functions"
   ]
  },
  {
   "cell_type": "code",
   "execution_count": null,
   "metadata": {},
   "outputs": [],
   "source": [
    "#export\n",
    "def mse(x,y): return ((x-y)**2).mean()\n",
    "def rmse(x,y): return np.sqrt(mse(x, y))"
   ]
  },
  {
   "cell_type": "code",
   "execution_count": null,
   "metadata": {},
   "outputs": [],
   "source": [
    "# x = np.linspace(-1, 1, 10)\n",
    "# y = x + np.random.random(x.shape)\n",
    "x = np.array([-1., -0.778, -0.556, -0.332, -0.115, 0.119,  0.331,  0.556,  0.777,  1.])\n",
    "y = np.array([-0.721,  0.036,  0.366,  0.490,  0.565, 1.080, 0.414, 1.125, 1.483, 1.569])\n",
    "assert 0.480 == np.round(mse(x, y), 3)\n",
    "assert 0.693 == np.round(rmse(x, y), 3) # expect 0.6931791254791217"
   ]
  },
  {
   "cell_type": "code",
   "execution_count": null,
   "metadata": {},
   "outputs": [
    {
     "name": "stdout",
     "output_type": "stream",
     "text": [
      "Converted 000_target_module.ipynb.\n",
      "Converted 001_exports_to_target_module.ipynb.\n",
      "Converted 002_target_module.ipynb.\n",
      "Converted 00_core.ipynb.\n",
      "Converted 10_data.ipynb.\n",
      "Converted 20_models.ipynb.\n",
      "Converted 21_models-extra.ipynb.\n",
      "Converted 30_test_flag.ipynb.\n",
      "Converted 40_test_export.ipynb.\n",
      "Converted 50_test_doc.ipynb.\n",
      "Converted 51_test_show_doc.ipynb.\n",
      "Converted 60_all_test.ipynb.\n",
      "Converted 61_test_add2__all__.ipynb.\n",
      "Converted 70_multi_all_test_flag.ipynb.\n",
      "Converted 71_tensor_patch.ipynb.\n",
      "Converted 72_if__name__.ipynb.\n",
      "Converted 73_in_ipython.ipynb.\n",
      "Converted 80_test_coverage.ipynb.\n",
      "Converted 81_test_coverage.ipynb.\n",
      "Converted index.ipynb.\n"
     ]
    }
   ],
   "source": [
    "#hide\n",
    "from nbdev.export import *\n",
    "notebook2script()"
   ]
  }
 ],
 "metadata": {
  "kernelspec": {
   "display_name": "Python 3",
   "language": "python",
   "name": "python3"
  }
 },
 "nbformat": 4,
 "nbformat_minor": 2
}
