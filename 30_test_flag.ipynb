{
 "cells": [
  {
   "cell_type": "markdown",
   "metadata": {},
   "source": [
    "Note: no need to `default_exp` if you want to have only tests in a notebook"
   ]
  },
  {
   "cell_type": "markdown",
   "metadata": {},
   "source": [
    "# Test nbdev test flags\n",
    "\n",
    "> Some tests with custom flags."
   ]
  },
  {
   "cell_type": "markdown",
   "metadata": {},
   "source": [
    "To run all non-flagged tests\n",
    "- `nbdev_test_nbs`\n",
    "\n",
    "To run all tests and tests flagged with failing_test\n",
    "- `nbdev_test_nbs --flags failing_test`"
   ]
  },
  {
   "cell_type": "code",
   "execution_count": null,
   "metadata": {},
   "outputs": [],
   "source": [
    "import os"
   ]
  },
  {
   "cell_type": "code",
   "execution_count": null,
   "metadata": {},
   "outputs": [],
   "source": [
    "#failing_test\n",
    "# run with: `nbdev_test_nbs --flags failing_test --fname 30_test_flag.ipynb`\n",
    "if os.environ.get('IN_TEST', 0): 1/0"
   ]
  },
  {
   "cell_type": "markdown",
   "metadata": {},
   "source": [
    "The next section checks that flagged tests are run correctly. Any of the following should pass;\n",
    "```\n",
    "export EXEPECTED_TST_FLAGS=\"cython slow\"\n",
    "nbdev_test_nbs --flags \"cython slow\" --fname 30_test_flag.ipynb\n",
    "\n",
    "export EXEPECTED_TST_FLAGS=\"slow\"\n",
    "nbdev_test_nbs --flags \"slow\" --fname 30_test_flag.ipynb\n",
    "\n",
    "export EXEPECTED_TST_FLAGS=\n",
    "nbdev_test_nbs --fname 30_test_flag.ipynb\n",
    "```\n",
    "\n",
    "but these should fail;\n",
    "\n",
    "```\n",
    "export EXEPECTED_TST_FLAGS=\"slow\"\n",
    "nbdev_test_nbs --flags \"cython slow\" --fname 30_test_flag.ipynb\n",
    "\n",
    "export EXEPECTED_TST_FLAGS=\"cython slow\"\n",
    "nbdev_test_nbs --flags \"slow\" --fname 30_test_flag.ipynb\n",
    "\n",
    "export EXEPECTED_TST_FLAGS=\"cython slow\"\n",
    "nbdev_test_nbs --fname 30_test_flag.ipynb\n",
    "```"
   ]
  },
  {
   "cell_type": "code",
   "execution_count": null,
   "metadata": {},
   "outputs": [],
   "source": [
    "# keep track of which test flags have been run\n",
    "test_log=[]"
   ]
  },
  {
   "cell_type": "code",
   "execution_count": null,
   "metadata": {},
   "outputs": [],
   "source": [
    "# cython\n",
    "test_log.append('cython')\n",
    "# TODO: add some cython code"
   ]
  },
  {
   "cell_type": "code",
   "execution_count": null,
   "metadata": {},
   "outputs": [],
   "source": [
    "# hide\n",
    "#slow\n",
    "test_log.append('slow')"
   ]
  },
  {
   "cell_type": "code",
   "execution_count": null,
   "metadata": {},
   "outputs": [],
   "source": [
    "if os.environ.get('IN_TEST', 0):\n",
    "    def sort_unique(l):\n",
    "        l.sort()\n",
    "        return set(l)\n",
    "    expected = sort_unique(os.environ.get('EXEPECTED_TST_FLAGS', '').split())\n",
    "    actual = sort_unique(test_log)\n",
    "    print(expected, actual)\n",
    "    if expected != actual:\n",
    "        raise Exception(f'Expected {expected} test flags to be run but found {actual}')"
   ]
  }
 ],
 "metadata": {
  "kernelspec": {
   "display_name": "Python 3",
   "language": "python",
   "name": "python3"
  }
 },
 "nbformat": 4,
 "nbformat_minor": 4
}
