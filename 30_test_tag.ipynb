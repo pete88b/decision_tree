{
 "cells": [
  {
   "cell_type": "markdown",
   "metadata": {},
   "source": [
    "Note: no need to `default_exp` if you want to have only tests in a notebook"
   ]
  },
  {
   "cell_type": "markdown",
   "metadata": {},
   "source": [
    "# Notebook to test nbdev test flags\n",
    "\n",
    "> Some tests with custom flags."
   ]
  },
  {
   "cell_type": "markdown",
   "metadata": {},
   "source": [
    "To run all non-flagged tests\n",
    "- `nbdev_test_nbs`\n",
    "\n",
    "To run all tests and tests flagged with failing_test\n",
    "- `nbdev_test_nbs --flags failing_test`"
   ]
  },
  {
   "cell_type": "code",
   "execution_count": null,
   "metadata": {},
   "outputs": [],
   "source": [
    "#failing_test\n",
    "1/0"
   ]
  }
 ],
 "metadata": {
  "kernelspec": {
   "display_name": "Python 3",
   "language": "python",
   "name": "python3"
  }
 },
 "nbformat": 4,
 "nbformat_minor": 4
}
