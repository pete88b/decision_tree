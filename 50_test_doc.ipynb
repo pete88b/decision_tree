{
 "cells": [
  {
   "cell_type": "code",
   "execution_count": null,
   "metadata": {},
   "outputs": [],
   "source": [
    "#default_exp test.doc\n",
    "# default_cls_lvl 6"
   ]
  },
  {
   "cell_type": "markdown",
   "metadata": {},
   "source": [
    "# Test nbdev doc flags\n",
    "\n",
    "> Some cells to test the flags that control doc generation."
   ]
  },
  {
   "cell_type": "code",
   "execution_count": null,
   "metadata": {},
   "outputs": [
    {
     "name": "stdout",
     "output_type": "stream",
     "text": [
      "input and output should be hidden\n"
     ]
    }
   ],
   "source": [
    " #hide\n",
    "print('input and output should be hidden')"
   ]
  },
  {
   "cell_type": "code",
   "execution_count": null,
   "metadata": {},
   "outputs": [
    {
     "name": "stdout",
     "output_type": "stream",
     "text": [
      "input should be hidden\n"
     ]
    }
   ],
   "source": [
    "  #  hide_input\n",
    "print('input should be hidden')"
   ]
  },
  {
   "cell_type": "code",
   "execution_count": null,
   "metadata": {},
   "outputs": [
    {
     "name": "stdout",
     "output_type": "stream",
     "text": [
      "output should be hidden\n"
     ]
    }
   ],
   "source": [
    " # hide_output\n",
    "print('output should be hidden')"
   ]
  },
  {
   "cell_type": "code",
   "execution_count": null,
   "metadata": {},
   "outputs": [],
   "source": [
    "#exporti\n",
    "class _TstClass():\n",
    "    \"It's a test class\"\n",
    "    def a(self):\n",
    "        \"no flag\"\n",
    "        pass\n",
    "    def b(self):\n",
    "        \"hide flag\"\n",
    "        pass\n",
    "    def c(self):\n",
    "        \"hide_input flag\"\n",
    "        pass\n",
    "    def d(self):\n",
    "        \"hide_output flag\"\n",
    "        pass"
   ]
  },
  {
   "cell_type": "code",
   "execution_count": null,
   "metadata": {},
   "outputs": [
    {
     "name": "stdout",
     "output_type": "stream",
     "text": [
      "exported and shown\n"
     ]
    }
   ],
   "source": [
    "from nbdev.showdoc import show_doc\n",
    "from decision_tree.test.doc import _TstClass"
   ]
  },
  {
   "cell_type": "code",
   "execution_count": null,
   "metadata": {},
   "outputs": [
    {
     "data": {
      "text/markdown": [
       "<h4 id=\"_TstClass.a\" class=\"doc_header\"><code>_TstClass.a</code><a href=\"https://github.com/pete88b/decision_tree/tree/master/decision_tree/test/doc.py#L8\" class=\"source_link\" style=\"float:right\">[source]</a></h4>\n",
       "\n",
       "> <code>_TstClass.a</code>()\n",
       "\n",
       "no flag"
      ],
      "text/plain": [
       "<IPython.core.display.Markdown object>"
      ]
     },
     "metadata": {},
     "output_type": "display_data"
    }
   ],
   "source": [
    "show_doc(_TstClass.a)"
   ]
  },
  {
   "cell_type": "code",
   "execution_count": null,
   "metadata": {},
   "outputs": [
    {
     "data": {
      "text/markdown": [
       "<h4 id=\"_TstClass.b\" class=\"doc_header\"><code>_TstClass.b</code><a href=\"https://github.com/pete88b/decision_tree/tree/master/decision_tree/test/doc.py#L11\" class=\"source_link\" style=\"float:right\">[source]</a></h4>\n",
       "\n",
       "> <code>_TstClass.b</code>()\n",
       "\n",
       "hide flag"
      ],
      "text/plain": [
       "<IPython.core.display.Markdown object>"
      ]
     },
     "metadata": {},
     "output_type": "display_data"
    }
   ],
   "source": [
    "# hide\n",
    "show_doc(_TstClass.b)"
   ]
  },
  {
   "cell_type": "code",
   "execution_count": null,
   "metadata": {},
   "outputs": [
    {
     "data": {
      "text/markdown": [
       "<h4 id=\"_TstClass.c\" class=\"doc_header\"><code>_TstClass.c</code><a href=\"https://github.com/pete88b/decision_tree/tree/master/decision_tree/test/doc.py#L14\" class=\"source_link\" style=\"float:right\">[source]</a></h4>\n",
       "\n",
       "> <code>_TstClass.c</code>()\n",
       "\n",
       "hide_input flag"
      ],
      "text/plain": [
       "<IPython.core.display.Markdown object>"
      ]
     },
     "metadata": {},
     "output_type": "display_data"
    }
   ],
   "source": [
    "# hide_input\n",
    "show_doc(_TstClass.c)"
   ]
  },
  {
   "cell_type": "code",
   "execution_count": null,
   "metadata": {},
   "outputs": [
    {
     "data": {
      "text/markdown": [
       "<h4 id=\"_TstClass.d\" class=\"doc_header\"><code>_TstClass.d</code><a href=\"https://github.com/pete88b/decision_tree/tree/master/decision_tree/test/doc.py#L17\" class=\"source_link\" style=\"float:right\">[source]</a></h4>\n",
       "\n",
       "> <code>_TstClass.d</code>()\n",
       "\n",
       "hide_output flag"
      ],
      "text/plain": [
       "<IPython.core.display.Markdown object>"
      ]
     },
     "metadata": {},
     "output_type": "display_data"
    }
   ],
   "source": [
    "# hide_output\n",
    "show_doc(_TstClass.d)"
   ]
  },
  {
   "cell_type": "code",
   "execution_count": null,
   "metadata": {},
   "outputs": [],
   "source": [
    "#exports\n",
    "class AnotherTestClass():\n",
    "    \"just another test class\"\n",
    "    def a():\n",
    "        \"with a dummy method\"\n",
    "        pass"
   ]
  },
  {
   "cell_type": "code",
   "execution_count": null,
   "metadata": {},
   "outputs": [
    {
     "data": {
      "text/markdown": [
       "<h4 id=\"AnotherTestClass.a\" class=\"doc_header\"><code>AnotherTestClass.a</code><a href=\"__main__.py#L4\" class=\"source_link\" style=\"float:right\">[source]</a></h4>\n",
       "\n",
       "> <code>AnotherTestClass.a</code>()\n",
       "\n",
       "with a dummy method"
      ],
      "text/plain": [
       "<IPython.core.display.Markdown object>"
      ]
     },
     "metadata": {},
     "output_type": "display_data"
    }
   ],
   "source": [
    "show_doc(AnotherTestClass.a)"
   ]
  },
  {
   "cell_type": "code",
   "execution_count": null,
   "metadata": {},
   "outputs": [
    {
     "name": "stdout",
     "output_type": "stream",
     "text": [
      "exported and shown\n"
     ]
    }
   ],
   "source": [
    "# this cell should be exported and shown but exports tag should be removed\n",
    "# exports\n",
    "print('exported and shown')"
   ]
  },
  {
   "cell_type": "code",
   "execution_count": null,
   "metadata": {},
   "outputs": [
    {
     "name": "stdout",
     "output_type": "stream",
     "text": [
      "collapse\n"
     ]
    }
   ],
   "source": [
    "#collapse\n",
    "print('collapse')"
   ]
  },
  {
   "cell_type": "code",
   "execution_count": null,
   "metadata": {},
   "outputs": [
    {
     "name": "stdout",
     "output_type": "stream",
     "text": [
      "collapse_show\n"
     ]
    }
   ],
   "source": [
    "#collapse_show\n",
    "print('collapse_show')"
   ]
  },
  {
   "cell_type": "code",
   "execution_count": null,
   "metadata": {},
   "outputs": [
    {
     "name": "stdout",
     "output_type": "stream",
     "text": [
      "collapse-show with multiple lines of code\n"
     ]
    }
   ],
   "source": [
    "#collapse-show\n",
    "def demo_multi_line_of_code():\n",
    "    print('collapse-show with multiple lines of code')\n",
    "demo_multi_line_of_code()"
   ]
  },
  {
   "cell_type": "code",
   "execution_count": null,
   "metadata": {},
   "outputs": [
    {
     "name": "stdout",
     "output_type": "stream",
     "text": [
      "collapse_hide\n"
     ]
    }
   ],
   "source": [
    "#collapse_hide\n",
    "print('collapse_hide')"
   ]
  },
  {
   "cell_type": "code",
   "execution_count": null,
   "metadata": {},
   "outputs": [
    {
     "name": "stdout",
     "output_type": "stream",
     "text": [
      "collapse_output\n"
     ]
    }
   ],
   "source": [
    "#collapse_output\n",
    "print('collapse_output')"
   ]
  },
  {
   "cell_type": "code",
   "execution_count": null,
   "metadata": {},
   "outputs": [
    {
     "name": "stdout",
     "output_type": "stream",
     "text": [
      "collapse-output\n",
      "with\n",
      "multiple lines of output\n"
     ]
    }
   ],
   "source": [
    "#collapse-output\n",
    "print('collapse-output\\nwith\\nmultiple lines of output')"
   ]
  },
  {
   "cell_type": "markdown",
   "metadata": {},
   "source": [
    "## combine flags that control doc generation and other flags"
   ]
  },
  {
   "cell_type": "code",
   "execution_count": null,
   "metadata": {},
   "outputs": [
    {
     "name": "stdout",
     "output_type": "stream",
     "text": [
      "input and output should be hidden - even when used with test flag\n"
     ]
    }
   ],
   "source": [
    "# hide\n",
    "#slow\n",
    "print('input and output should be hidden - even when used with test flag')"
   ]
  },
  {
   "cell_type": "code",
   "execution_count": null,
   "metadata": {},
   "outputs": [
    {
     "name": "stdout",
     "output_type": "stream",
     "text": [
      "input should be hidden - even when used with test flag\n"
     ]
    }
   ],
   "source": [
    "#hide_input\n",
    "# slow\n",
    "print('input should be hidden - even when used with test flag')"
   ]
  },
  {
   "cell_type": "code",
   "execution_count": null,
   "metadata": {},
   "outputs": [
    {
     "name": "stdout",
     "output_type": "stream",
     "text": [
      "output should be hidden - even when used with test flag\n"
     ]
    }
   ],
   "source": [
    "#hide_output\n",
    "#  slow\n",
    "print('output should be hidden - even when used with test flag')"
   ]
  },
  {
   "cell_type": "markdown",
   "metadata": {},
   "source": [
    "### nbdev \"0.2.18\" (pre-magic) is sensitive to the order of multiple flags\n",
    "\n",
    "works fine for `hide_input`/`hide_output` but misses the `hide` flags unless it's the 1st thing in the cell"
   ]
  },
  {
   "cell_type": "code",
   "execution_count": null,
   "metadata": {},
   "outputs": [
    {
     "name": "stdout",
     "output_type": "stream",
     "text": [
      "input and output should be hidden - even when used with test flag\n"
     ]
    }
   ],
   "source": [
    "#slow\n",
    "# hide\n",
    "#TODO: check after migrate to flags that this cell is hidden in the docs\n",
    "print('input and output should be hidden - even when used with test flag')"
   ]
  },
  {
   "cell_type": "code",
   "execution_count": null,
   "metadata": {},
   "outputs": [
    {
     "name": "stdout",
     "output_type": "stream",
     "text": [
      "input should be hidden - even when used with test flag\n"
     ]
    }
   ],
   "source": [
    "# slow\n",
    "#hide_input\n",
    "print('input should be hidden - even when used with test flag')"
   ]
  },
  {
   "cell_type": "code",
   "execution_count": null,
   "metadata": {},
   "outputs": [
    {
     "name": "stdout",
     "output_type": "stream",
     "text": [
      "output should be hidden - even when used with test flag\n"
     ]
    }
   ],
   "source": [
    "#  slow\n",
    "#hide_output\n",
    "print('output should be hidden - even when used with test flag')"
   ]
  },
  {
   "cell_type": "code",
   "execution_count": null,
   "metadata": {},
   "outputs": [],
   "source": [
    "#hide\n",
    "# from nbdev.export2html import convert_nb\n",
    "# convert_nb('50_test_doc.ipynb')"
   ]
  }
 ],
 "metadata": {
  "kernelspec": {
   "display_name": "Python 3",
   "language": "python",
   "name": "python3"
  }
 },
 "nbformat": 4,
 "nbformat_minor": 4
}
