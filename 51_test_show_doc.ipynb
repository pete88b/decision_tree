{
 "cells": [
  {
   "cell_type": "code",
   "execution_count": null,
   "metadata": {},
   "outputs": [
    {
     "name": "stdout",
     "output_type": "stream",
     "text": [
      "Cells will be exported to decision_tree.test.show_doc,\n",
      "unless a different module is specified after an export flag: `%nbdev_export special.module`\n"
     ]
    }
   ],
   "source": [
    "from nbdev import *\n",
    "%nbdev_default_export test.show_doc"
   ]
  },
  {
   "cell_type": "markdown",
   "metadata": {},
   "source": [
    "# Test show_doc\n",
    "\n",
    "> Testing `%nbdev_show_doc` and showing how it works."
   ]
  },
  {
   "cell_type": "markdown",
   "metadata": {},
   "source": [
    "# Showing multiple elements with a single `%nbdev_show_doc`\n",
    "\n",
    "https://github.com/fastai/fastai2/blob/master/nbs/00_torch_core.ipynb makes a few `show_doc` calls which could be written with one `%nbdev_show_doc`"
   ]
  },
  {
   "cell_type": "code",
   "execution_count": null,
   "metadata": {},
   "outputs": [
    {
     "data": {
      "text/markdown": [
       "<h3 id=\"TitledInt\" class=\"doc_header\"><code>class</code> <code>TitledInt</code><a href=\"https://github.com/fastai/fastai2/tree/master/fastai2/torch_core.py#L397\" class=\"source_link\" style=\"float:right\">[source]</a></h3>\n",
       "\n",
       "> <code>TitledInt</code>() :: `Int`\n",
       "\n",
       "An `int` with `show`"
      ],
      "text/plain": [
       "<IPython.core.display.Markdown object>"
      ]
     },
     "metadata": {},
     "output_type": "display_data"
    },
    {
     "data": {
      "text/markdown": [
       "<h3 id=\"TitledStr\" class=\"doc_header\"><code>class</code> <code>TitledStr</code><a href=\"https://github.com/fastai/fastai2/tree/master/fastai2/torch_core.py#L409\" class=\"source_link\" style=\"float:right\">[source]</a></h3>\n",
       "\n",
       "> <code>TitledStr</code>() :: `Str`\n",
       "\n",
       "An `str` with `show`"
      ],
      "text/plain": [
       "<IPython.core.display.Markdown object>"
      ]
     },
     "metadata": {},
     "output_type": "display_data"
    },
    {
     "data": {
      "text/markdown": [
       "<h3 id=\"TitledFloat\" class=\"doc_header\"><code>class</code> <code>TitledFloat</code><a href=\"https://github.com/fastai/fastai2/tree/master/fastai2/torch_core.py#L403\" class=\"source_link\" style=\"float:right\">[source]</a></h3>\n",
       "\n",
       "> <code>TitledFloat</code>(**`x`**=*`0`*) :: `Float`\n",
       "\n",
       "A `float` with `show`"
      ],
      "text/plain": [
       "<IPython.core.display.Markdown object>"
      ]
     },
     "metadata": {},
     "output_type": "display_data"
    }
   ],
   "source": [
    "from fastai2.torch_core import TitledInt,TitledStr,TitledFloat\n",
    "%nbdev_show_doc TitledInt,TitledStr,TitledFloat,title_level=3"
   ]
  },
  {
   "cell_type": "markdown",
   "metadata": {},
   "source": [
    "In the example above &#8593;:\n",
    "- `title_level=` can appear anywhere in the list of names\n",
    "- list of things are classes but could be functions etc\n",
    "- could also be written as a space separated list\n",
    "    - `%nbdev_show_doc TitledInt TitledStr TitledFloat title_level=3`"
   ]
  },
  {
   "cell_type": "markdown",
   "metadata": {},
   "source": [
    "# Not having to pass `name=` might be nice\n",
    "\n",
    "https://github.com/fastai/fastai2/blob/master/nbs/03_data.core.ipynb makes a few `show_doc` calls which could be written with one `%nbdev_show_doc` _without_ having to pass `name=`"
   ]
  },
  {
   "cell_type": "code",
   "execution_count": null,
   "metadata": {},
   "outputs": [
    {
     "data": {
      "text/markdown": [
       "<h2 id=\"DataLoaders\" class=\"doc_header\"><code>class</code> <code>DataLoaders</code><a href=\"https://github.com/fastai/fastai2/tree/master/fastai2/data/core.py#L120\" class=\"source_link\" style=\"float:right\">[source]</a></h2>\n",
       "\n",
       "> <code>DataLoaders</code>(**\\*`loaders`**, **`path`**=*`'.'`*, **`device`**=*`None`*) :: `GetAttr`\n",
       "\n",
       "Basic wrapper around several `DataLoader`s."
      ],
      "text/plain": [
       "<IPython.core.display.Markdown object>"
      ]
     },
     "metadata": {},
     "output_type": "display_data"
    },
    {
     "data": {
      "text/markdown": [
       "<h4 id=\"DataLoaders.__getitem__\" class=\"doc_header\"><code>DataLoaders.__getitem__</code><a href=\"https://github.com/fastai/fastai2/tree/master/fastai2/data/core.py#L127\" class=\"source_link\" style=\"float:right\">[source]</a></h4>\n",
       "\n",
       "> <code>DataLoaders.__getitem__</code>(**`i`**)\n",
       "\n",
       "Retrieve `DataLoader` at `i` (`0` is training, `1` is validation)"
      ],
      "text/plain": [
       "<IPython.core.display.Markdown object>"
      ]
     },
     "metadata": {},
     "output_type": "display_data"
    },
    {
     "data": {
      "text/markdown": [
       "<h4 id=\"DataLoaders.train\" class=\"doc_header\"><code>DataLoaders.train</code><a href=\"https://github.com/fastai/fastai2/tree/master/fastai2/data/core.py#L133\" class=\"source_link\" style=\"float:right\">[source]</a></h4>\n",
       "\n",
       "Training `DataLoader`"
      ],
      "text/plain": [
       "<IPython.core.display.Markdown object>"
      ]
     },
     "metadata": {},
     "output_type": "display_data"
    },
    {
     "data": {
      "text/markdown": [
       "<h4 id=\"DataLoaders.valid\" class=\"doc_header\"><code>DataLoaders.valid</code><a href=\"https://github.com/fastai/fastai2/tree/master/fastai2/data/core.py#L133\" class=\"source_link\" style=\"float:right\">[source]</a></h4>\n",
       "\n",
       "Validation `DataLoader`"
      ],
      "text/plain": [
       "<IPython.core.display.Markdown object>"
      ]
     },
     "metadata": {},
     "output_type": "display_data"
    },
    {
     "data": {
      "text/markdown": [
       "<h4 id=\"DataLoaders.train_ds\" class=\"doc_header\"><code>DataLoaders.train_ds</code><a href=\"https://github.com/fastai/fastai2/tree/master/fastai2/data/core.py#L134\" class=\"source_link\" style=\"float:right\">[source]</a></h4>\n",
       "\n",
       "Training `Dataset`"
      ],
      "text/plain": [
       "<IPython.core.display.Markdown object>"
      ]
     },
     "metadata": {},
     "output_type": "display_data"
    },
    {
     "data": {
      "text/markdown": [
       "<h4 id=\"DataLoaders.valid_ds\" class=\"doc_header\"><code>DataLoaders.valid_ds</code><a href=\"https://github.com/fastai/fastai2/tree/master/fastai2/data/core.py#L134\" class=\"source_link\" style=\"float:right\">[source]</a></h4>\n",
       "\n",
       "Validation `Dataset`"
      ],
      "text/plain": [
       "<IPython.core.display.Markdown object>"
      ]
     },
     "metadata": {},
     "output_type": "display_data"
    }
   ],
   "source": [
    "from fastai2.data.core import DataLoaders\n",
    "%nbdev_show_doc DataLoaders . __getitem__ train valid train_ds valid_ds"
   ]
  },
  {
   "cell_type": "markdown",
   "metadata": {},
   "source": [
    "In the example above &#8593;:\n",
    "- The `.` tells nbdev_show_doc to show class members\n",
    "- could also be written as a comma separated list\n",
    "    - `%nbdev_show_doc DataLoaders ., __getitem__, train, valid, train_ds, valid_ds`\n",
    "- or use a mixture of separators\n",
    "    - `%nbdev_show_doc DataLoaders . __getitem__, train,valid, train_ds valid_ds`"
   ]
  },
  {
   "cell_type": "code",
   "execution_count": null,
   "metadata": {},
   "outputs": [
    {
     "data": {
      "text/markdown": [
       "<h4 id=\"DataLoaders.<lambda>\" class=\"doc_header\"><code>DataLoaders.<lambda></code><a href=\"https://github.com/fastai/fastai2/tree/master/fastai2/data/core.py#L133\" class=\"source_link\" style=\"float:right\">[source]</a></h4>\n",
       "\n",
       "Training `DataLoader`"
      ],
      "text/plain": [
       "<IPython.core.display.Markdown object>"
      ]
     },
     "metadata": {},
     "output_type": "display_data"
    }
   ],
   "source": [
    "# `sync` `_get_property_name` gives us `DataLoaders.<lambda></lambda>`\n",
    "show_doc(DataLoaders.train)"
   ]
  },
  {
   "cell_type": "code",
   "execution_count": null,
   "metadata": {},
   "outputs": [
    {
     "data": {
      "text/markdown": [
       "<h4 id=\"DataLoaders.train\" class=\"doc_header\"><code>DataLoaders.train</code><a href=\"https://github.com/fastai/fastai2/tree/master/fastai2/data/core.py#L133\" class=\"source_link\" style=\"float:right\">[source]</a></h4>\n",
       "\n",
       "Training `DataLoader`"
      ],
      "text/plain": [
       "<IPython.core.display.Markdown object>"
      ]
     },
     "metadata": {},
     "output_type": "display_data"
    }
   ],
   "source": [
    "%nbdev_show_doc DataLoaders.train"
   ]
  },
  {
   "cell_type": "markdown",
   "metadata": {},
   "source": [
    "## You also get `name` for free when using the `*` wildcard"
   ]
  },
  {
   "cell_type": "code",
   "execution_count": null,
   "metadata": {},
   "outputs": [
    {
     "data": {
      "text/markdown": [
       "<h2 id=\"DataLoaders\" class=\"doc_header\"><code>class</code> <code>DataLoaders</code><a href=\"https://github.com/fastai/fastai2/tree/master/fastai2/data/core.py#L120\" class=\"source_link\" style=\"float:right\">[source]</a></h2>\n",
       "\n",
       "> <code>DataLoaders</code>(**\\*`loaders`**, **`path`**=*`'.'`*, **`device`**=*`None`*) :: `GetAttr`\n",
       "\n",
       "Basic wrapper around several `DataLoader`s."
      ],
      "text/plain": [
       "<IPython.core.display.Markdown object>"
      ]
     },
     "metadata": {},
     "output_type": "display_data"
    },
    {
     "data": {
      "text/markdown": [
       "<h4 id=\"DataLoaders.__getitem__\" class=\"doc_header\"><code>DataLoaders.__getitem__</code><a href=\"https://github.com/fastai/fastai2/tree/master/fastai2/data/core.py#L127\" class=\"source_link\" style=\"float:right\">[source]</a></h4>\n",
       "\n",
       "> <code>DataLoaders.__getitem__</code>(**`i`**)\n",
       "\n",
       "Retrieve `DataLoader` at `i` (`0` is training, `1` is validation)"
      ],
      "text/plain": [
       "<IPython.core.display.Markdown object>"
      ]
     },
     "metadata": {},
     "output_type": "display_data"
    },
    {
     "data": {
      "text/markdown": [
       "<h4 id=\"DataLoaders.train\" class=\"doc_header\"><code>DataLoaders.train</code><a href=\"https://github.com/fastai/fastai2/tree/master/fastai2/data/core.py#L133\" class=\"source_link\" style=\"float:right\">[source]</a></h4>\n",
       "\n",
       "Training `DataLoader`"
      ],
      "text/plain": [
       "<IPython.core.display.Markdown object>"
      ]
     },
     "metadata": {},
     "output_type": "display_data"
    },
    {
     "data": {
      "text/markdown": [
       "<h4 id=\"DataLoaders.valid\" class=\"doc_header\"><code>DataLoaders.valid</code><a href=\"https://github.com/fastai/fastai2/tree/master/fastai2/data/core.py#L133\" class=\"source_link\" style=\"float:right\">[source]</a></h4>\n",
       "\n",
       "Validation `DataLoader`"
      ],
      "text/plain": [
       "<IPython.core.display.Markdown object>"
      ]
     },
     "metadata": {},
     "output_type": "display_data"
    },
    {
     "data": {
      "text/markdown": [
       "<h4 id=\"DataLoaders.train_ds\" class=\"doc_header\"><code>DataLoaders.train_ds</code><a href=\"https://github.com/fastai/fastai2/tree/master/fastai2/data/core.py#L134\" class=\"source_link\" style=\"float:right\">[source]</a></h4>\n",
       "\n",
       "Training `Dataset`"
      ],
      "text/plain": [
       "<IPython.core.display.Markdown object>"
      ]
     },
     "metadata": {},
     "output_type": "display_data"
    },
    {
     "data": {
      "text/markdown": [
       "<h4 id=\"DataLoaders.valid_ds\" class=\"doc_header\"><code>DataLoaders.valid_ds</code><a href=\"https://github.com/fastai/fastai2/tree/master/fastai2/data/core.py#L134\" class=\"source_link\" style=\"float:right\">[source]</a></h4>\n",
       "\n",
       "Validation `Dataset`"
      ],
      "text/plain": [
       "<IPython.core.display.Markdown object>"
      ]
     },
     "metadata": {},
     "output_type": "display_data"
    },
    {
     "data": {
      "text/markdown": [
       "<h4 id=\"DataLoaders.to\" class=\"doc_header\"><code>DataLoaders.to</code><a href=\"https://github.com/fastai/fastai2/tree/master/fastai2/data/core.py#L144\" class=\"source_link\" style=\"float:right\">[source]</a></h4>\n",
       "\n",
       "> <code>DataLoaders.to</code>(**`device`**)\n",
       "\n",
       "Use `device`"
      ],
      "text/plain": [
       "<IPython.core.display.Markdown object>"
      ]
     },
     "metadata": {},
     "output_type": "display_data"
    },
    {
     "data": {
      "text/markdown": [
       "<h4 id=\"DataLoaders.cuda\" class=\"doc_header\"><code>DataLoaders.cuda</code><a href=\"https://github.com/fastai/fastai2/tree/master/fastai2/data/core.py#L148\" class=\"source_link\" style=\"float:right\">[source]</a></h4>\n",
       "\n",
       "> <code>DataLoaders.cuda</code>()\n",
       "\n",
       "Use the gpu if available"
      ],
      "text/plain": [
       "<IPython.core.display.Markdown object>"
      ]
     },
     "metadata": {},
     "output_type": "display_data"
    },
    {
     "data": {
      "text/markdown": [
       "<h4 id=\"DataLoaders.cpu\" class=\"doc_header\"><code>DataLoaders.cpu</code><a href=\"https://github.com/fastai/fastai2/tree/master/fastai2/data/core.py#L149\" class=\"source_link\" style=\"float:right\">[source]</a></h4>\n",
       "\n",
       "> <code>DataLoaders.cpu</code>()\n",
       "\n",
       "Use the cpu"
      ],
      "text/plain": [
       "<IPython.core.display.Markdown object>"
      ]
     },
     "metadata": {},
     "output_type": "display_data"
    },
    {
     "data": {
      "text/markdown": [
       "<h4 id=\"DataLoaders.new_empty\" class=\"doc_header\"><code>DataLoaders.new_empty</code><a href=\"https://github.com/fastai/fastai2/tree/master/fastai2/data/core.py#L128\" class=\"source_link\" style=\"float:right\">[source]</a></h4>\n",
       "\n",
       "> <code>DataLoaders.new_empty</code>()\n",
       "\n",
       "Create a new empty version of `self` with the same transforms"
      ],
      "text/plain": [
       "<IPython.core.display.Markdown object>"
      ]
     },
     "metadata": {},
     "output_type": "display_data"
    },
    {
     "data": {
      "text/markdown": [
       "<h4 id=\"DataLoaders.from_dblock\" class=\"doc_header\"><code>DataLoaders.from_dblock</code><a href=\"https://github.com/fastai/fastai2/tree/master/fastai2/data/core.py#L161\" class=\"source_link\" style=\"float:right\">[source]</a></h4>\n",
       "\n",
       "> <code>DataLoaders.from_dblock</code>(**`dblock`**, **`source`**, **`path`**=*`'.'`*, **`bs`**=*`64`*, **`val_bs`**=*`None`*, **`shuffle_train`**=*`True`*, **`device`**=*`None`*, **\\*\\*`kwargs`**)\n",
       "\n",
       "Create a dataloaders from a given `dblock`"
      ],
      "text/plain": [
       "<IPython.core.display.Markdown object>"
      ]
     },
     "metadata": {},
     "output_type": "display_data"
    }
   ],
   "source": [
    "%nbdev_show_doc DataLoaders *"
   ]
  },
  {
   "cell_type": "markdown",
   "metadata": {},
   "source": [
    "In the example above &#8593;:\n",
    "- The `*` tells nbdev_show_doc to show all public members\n",
    "- in this case, nbdev_show_doc sees everything in `_docs` as a public member\n",
    "    - hopefully this is a good shortcut if you use fastcore `@docs`"
   ]
  },
  {
   "cell_type": "markdown",
   "metadata": {},
   "source": [
    "# show doc with nested classes, enums etc"
   ]
  },
  {
   "cell_type": "code",
   "execution_count": null,
   "metadata": {},
   "outputs": [],
   "source": [
    "from enum import Enum\n",
    "\n",
    "class Thing():\n",
    "    \"A thing\"\n",
    "    def __init__(self):\n",
    "        \"initialize a thing\"\n",
    "    def do_something(self):\n",
    "        \"make the thing do something\"\n",
    "    def a(self):\n",
    "        \"a does something ...\"\n",
    "    @property\n",
    "    def c_thing(self):\n",
    "        \"c is a property of Thing\"\n",
    "        return 5\n",
    "    _docs=dict(int='This element is not part of Thing',)\n",
    "        \n",
    "class Color(Thing):\n",
    "    \"A few colors\"\n",
    "    RED=1\n",
    "    GREEN=2\n",
    "    def __init__(self):\n",
    "        \"initialize a color\"\n",
    "        self.x='should make no difference'\n",
    "    def a(self):\n",
    "        \"a does nothing\"\n",
    "    def b(self, a):\n",
    "        \"b does nothing with `a`\"\n",
    "    @property\n",
    "    def c(self):\n",
    "        \"c is a property\"\n",
    "        return 5\n",
    "    class Hue():\n",
    "        \"The hue of a color\"\n",
    "        def apply(self):\n",
    "            \"Apply this hue\"\n",
    "    class Shade(Enum):\n",
    "        \"The shade\"\n",
    "        DARK=0\n",
    "        LIGHT=1"
   ]
  },
  {
   "cell_type": "code",
   "execution_count": null,
   "metadata": {},
   "outputs": [
    {
     "data": {
      "text/markdown": [
       "<h4 id=\"Color.Hue.apply\" class=\"doc_header\"><code>Color.Hue.apply</code><a href=\"__main__.py#L34\" class=\"source_link\" style=\"float:right\">[source]</a></h4>\n",
       "\n",
       "> <code>Color.Hue.apply</code>()\n",
       "\n",
       "Apply this hue"
      ],
      "text/plain": [
       "<IPython.core.display.Markdown object>"
      ]
     },
     "metadata": {},
     "output_type": "display_data"
    },
    {
     "data": {
      "text/markdown": [
       "<h4 id=\"Color.Shade.LIGHT\" class=\"doc_header\"><code>Color.Shade.LIGHT</code><a href=\"\" class=\"source_link\" style=\"float:right\">[source]</a></h4>\n",
       "\n",
       "The shade"
      ],
      "text/plain": [
       "<IPython.core.display.Markdown object>"
      ]
     },
     "metadata": {},
     "output_type": "display_data"
    },
    {
     "data": {
      "text/markdown": [
       "<h4 id=\"'just_because_you_can...'\" class=\"doc_header\"><code>'just_because_you_can...'</code><a href=\"\" class=\"source_link\" style=\"float:right\">[source]</a></h4>\n",
       "\n",
       "str(object='') -> str\n",
       "str(bytes_or_buffer[, encoding[, errors]]) -> str\n",
       "\n",
       "Create a new string object from the given object. If encoding or\n",
       "errors is specified, then the object must expose a data buffer\n",
       "that will be decoded using the given encoding and error handler.\n",
       "Otherwise, returns the result of object.__str__() (if defined)\n",
       "or repr(object).\n",
       "encoding defaults to sys.getdefaultencoding().\n",
       "errors defaults to 'strict'."
      ],
      "text/plain": [
       "<IPython.core.display.Markdown object>"
      ]
     },
     "metadata": {},
     "output_type": "display_data"
    }
   ],
   "source": [
    "# as long as you can `eval` elements, there are no restrictions on what you can pass to show doc\n",
    "%nbdev_show_doc Color.Hue.apply Color.Shade.LIGHT 'just_because_you_can...'"
   ]
  },
  {
   "cell_type": "code",
   "execution_count": null,
   "metadata": {},
   "outputs": [
    {
     "data": {
      "text/markdown": [
       "<h3 id=\"Color\" class=\"doc_header\"><code>class</code> <code>Color</code><a href=\"\" class=\"source_link\" style=\"float:right\">[source]</a></h3>\n",
       "\n",
       "> <code>Color</code>() :: `Thing`\n",
       "\n",
       "A few colors"
      ],
      "text/plain": [
       "<IPython.core.display.Markdown object>"
      ]
     },
     "metadata": {},
     "output_type": "display_data"
    },
    {
     "data": {
      "text/markdown": [
       "<h3 id=\"Color.Hue\" class=\"doc_header\"><code>class</code> <code>Color.Hue</code><a href=\"\" class=\"source_link\" style=\"float:right\">[source]</a></h3>\n",
       "\n",
       "> <code>Color.Hue</code>()\n",
       "\n",
       "The hue of a color"
      ],
      "text/plain": [
       "<IPython.core.display.Markdown object>"
      ]
     },
     "metadata": {},
     "output_type": "display_data"
    },
    {
     "data": {
      "text/markdown": [
       "<h3 id=\"Color.Shade\" class=\"doc_header\"><code>Color.Shade</code><a href=\"\" class=\"source_link\" style=\"float:right\">[source]</a></h3>\n",
       "\n",
       "> <code>Enum</code> = [DARK, LIGHT]\n",
       "\n",
       "The shade"
      ],
      "text/plain": [
       "<IPython.core.display.Markdown object>"
      ]
     },
     "metadata": {},
     "output_type": "display_data"
    },
    {
     "data": {
      "text/markdown": [
       "<h4 id=\"Color.__init__\" class=\"doc_header\"><code>Color.__init__</code><a href=\"__main__.py#L21\" class=\"source_link\" style=\"float:right\">[source]</a></h4>\n",
       "\n",
       "> <code>Color.__init__</code>()\n",
       "\n",
       "initialize a color"
      ],
      "text/plain": [
       "<IPython.core.display.Markdown object>"
      ]
     },
     "metadata": {},
     "output_type": "display_data"
    },
    {
     "data": {
      "text/markdown": [
       "<h4 id=\"Color.a\" class=\"doc_header\"><code>Color.a</code><a href=\"__main__.py#L24\" class=\"source_link\" style=\"float:right\">[source]</a></h4>\n",
       "\n",
       "> <code>Color.a</code>()\n",
       "\n",
       "a does nothing"
      ],
      "text/plain": [
       "<IPython.core.display.Markdown object>"
      ]
     },
     "metadata": {},
     "output_type": "display_data"
    },
    {
     "data": {
      "text/markdown": [
       "<h4 id=\"Color.b\" class=\"doc_header\"><code>Color.b</code><a href=\"__main__.py#L26\" class=\"source_link\" style=\"float:right\">[source]</a></h4>\n",
       "\n",
       "> <code>Color.b</code>(**`a`**)\n",
       "\n",
       "b does nothing with `a`"
      ],
      "text/plain": [
       "<IPython.core.display.Markdown object>"
      ]
     },
     "metadata": {},
     "output_type": "display_data"
    },
    {
     "data": {
      "text/markdown": [
       "<h4 id=\"Color.c\" class=\"doc_header\"><code>Color.c</code><a href=\"\" class=\"source_link\" style=\"float:right\">[source]</a></h4>\n",
       "\n",
       "c is a property"
      ],
      "text/plain": [
       "<IPython.core.display.Markdown object>"
      ]
     },
     "metadata": {},
     "output_type": "display_data"
    },
    {
     "data": {
      "text/markdown": [
       "<h4 id=\"Color.RED\" class=\"doc_header\"><code>Color.RED</code><a href=\"\" class=\"source_link\" style=\"float:right\">[source]</a></h4>\n",
       "\n",
       "int([x]) -> integer\n",
       "int(x, base=10) -> integer\n",
       "\n",
       "Convert a number or string to an integer, or return 0 if no arguments\n",
       "are given.  If x is a number, return x.__int__().  For floating point\n",
       "numbers, this truncates towards zero.\n",
       "\n",
       "If x is not a number or if base is given, then x must be a string,\n",
       "bytes, or bytearray instance representing an integer literal in the\n",
       "given base.  The literal can be preceded by '+' or '-' and be surrounded\n",
       "by whitespace.  The base defaults to 10.  Valid bases are 0 and 2-36.\n",
       "Base 0 means to interpret the base from the string as an integer literal.\n",
       ">>> int('0b100', base=0)\n",
       "4"
      ],
      "text/plain": [
       "<IPython.core.display.Markdown object>"
      ]
     },
     "metadata": {},
     "output_type": "display_data"
    }
   ],
   "source": [
    "# Note: do_something is not listed as it's defined by Thing\n",
    "# Note: __init__ is listed because it's defined by Color and does not start with single underscore\n",
    "%nbdev_show_doc Color *. RED default_cls_level = 3"
   ]
  },
  {
   "cell_type": "markdown",
   "metadata": {},
   "source": [
    "In the example above &#8593;:\n",
    "- The `*` tells nbdev_show_doc to show all public members\n",
    "- in this case, `Color` doesn't have `_docs` so we use \"inspect\" logic and list members that:\n",
    "    - don't start with single `_`\n",
    "    - are defined by the element being inspected\n",
    "    - are either executable or are properties"
   ]
  },
  {
   "cell_type": "markdown",
   "metadata": {},
   "source": [
    "In the example below &#8595;:\n",
    "- `Thing` does have `_docs` but it's not valid\n",
    "- so we fall back to the \"inspect\" logic"
   ]
  },
  {
   "cell_type": "code",
   "execution_count": null,
   "metadata": {},
   "outputs": [
    {
     "data": {
      "text/markdown": [
       "<h2 id=\"Thing\" class=\"doc_header\"><code>class</code> <code>Thing</code><a href=\"\" class=\"source_link\" style=\"float:right\">[source]</a></h2>\n",
       "\n",
       "> <code>Thing</code>()\n",
       "\n",
       "A thing"
      ],
      "text/plain": [
       "<IPython.core.display.Markdown object>"
      ]
     },
     "metadata": {},
     "output_type": "display_data"
    },
    {
     "data": {
      "text/markdown": [
       "<h4 id=\"Thing.__init__\" class=\"doc_header\"><code>Thing.__init__</code><a href=\"__main__.py#L5\" class=\"source_link\" style=\"float:right\">[source]</a></h4>\n",
       "\n",
       "> <code>Thing.__init__</code>()\n",
       "\n",
       "initialize a thing"
      ],
      "text/plain": [
       "<IPython.core.display.Markdown object>"
      ]
     },
     "metadata": {},
     "output_type": "display_data"
    },
    {
     "data": {
      "text/markdown": [
       "<h4 id=\"Thing.a\" class=\"doc_header\"><code>Thing.a</code><a href=\"__main__.py#L9\" class=\"source_link\" style=\"float:right\">[source]</a></h4>\n",
       "\n",
       "> <code>Thing.a</code>()\n",
       "\n",
       "a does something ..."
      ],
      "text/plain": [
       "<IPython.core.display.Markdown object>"
      ]
     },
     "metadata": {},
     "output_type": "display_data"
    },
    {
     "data": {
      "text/markdown": [
       "<h4 id=\"Thing.c_thing\" class=\"doc_header\"><code>Thing.c_thing</code><a href=\"\" class=\"source_link\" style=\"float:right\">[source]</a></h4>\n",
       "\n",
       "c is a property of Thing"
      ],
      "text/plain": [
       "<IPython.core.display.Markdown object>"
      ]
     },
     "metadata": {},
     "output_type": "display_data"
    },
    {
     "data": {
      "text/markdown": [
       "<h4 id=\"Thing.do_something\" class=\"doc_header\"><code>Thing.do_something</code><a href=\"__main__.py#L7\" class=\"source_link\" style=\"float:right\">[source]</a></h4>\n",
       "\n",
       "> <code>Thing.do_something</code>()\n",
       "\n",
       "make the thing do something"
      ],
      "text/plain": [
       "<IPython.core.display.Markdown object>"
      ]
     },
     "metadata": {},
     "output_type": "display_data"
    }
   ],
   "source": [
    "%nbdev_show_doc Thing *"
   ]
  },
  {
   "cell_type": "markdown",
   "metadata": {},
   "source": [
    "## nested functions etc"
   ]
  },
  {
   "cell_type": "code",
   "execution_count": null,
   "metadata": {},
   "outputs": [
    {
     "data": {
      "text/markdown": [
       "<h4 id=\"func\" class=\"doc_header\"><code>func</code><a href=\"__main__.py#L1\" class=\"source_link\" style=\"float:right\">[source]</a></h4>\n",
       "\n",
       "> <code>func</code>()\n",
       "\n",
       "Main function"
      ],
      "text/plain": [
       "<IPython.core.display.Markdown object>"
      ]
     },
     "metadata": {},
     "output_type": "display_data"
    },
    {
     "data": {
      "text/markdown": [
       "<h4 id=\"func.tagged_on_thing\" class=\"doc_header\"><code>func.tagged_on_thing</code><a href=\"__main__.py#L5\" class=\"source_link\" style=\"float:right\">[source]</a></h4>\n",
       "\n",
       "> <code>func.tagged_on_thing</code>()\n",
       "\n",
       "function 2"
      ],
      "text/plain": [
       "<IPython.core.display.Markdown object>"
      ]
     },
     "metadata": {},
     "output_type": "display_data"
    }
   ],
   "source": [
    "def func():\n",
    "    \"Main function\"\n",
    "    def nested_func():\n",
    "        \"no access to this so we won't see it in the docs\"\n",
    "def func2():\n",
    "    \"function 2\"\n",
    "func.tagged_on_thing = func2\n",
    "%nbdev_show_doc func *\n",
    "# you could also do the same with:\n",
    "# %nbdev_show_doc func . tagged_on_thing"
   ]
  },
  {
   "cell_type": "markdown",
   "metadata": {},
   "source": [
    "# checking auto show doc\n",
    "\n",
    "Unless we show doc for these elements in the notebook, `add_show_docs` will auto show:\n",
    "- `A`\n",
    "- `B`\n",
    "- `c`\n",
    "- `A.NestedA.e`"
   ]
  },
  {
   "cell_type": "code",
   "execution_count": null,
   "metadata": {},
   "outputs": [],
   "source": [
    "#exports\n",
    "from fastai2.imports import *\n",
    "class A:\n",
    "    \"a class\"\n",
    "    class NestedA:\n",
    "        \"a nested class\"\n",
    "class B():\n",
    "    \"b class\"\n",
    "def c():\n",
    "    \"c func\"\n",
    "d=\"d is an object def\"\n",
    "@patch\n",
    "def e(x:A.NestedA):\n",
    "    \"patch e onto A.NestedA\""
   ]
  },
  {
   "cell_type": "code",
   "execution_count": null,
   "metadata": {},
   "outputs": [
    {
     "data": {
      "text/markdown": [
       "<h4 id=\"c\" class=\"doc_header\"><code>c</code><a href=\"__main__.py#L9\" class=\"source_link\" style=\"float:right\">[source]</a></h4>\n",
       "\n",
       "> <code>c</code>()\n",
       "\n",
       "c func"
      ],
      "text/plain": [
       "<IPython.core.display.Markdown object>"
      ]
     },
     "metadata": {},
     "output_type": "display_data"
    },
    {
     "data": {
      "text/markdown": [
       "<h2 id=\"A\" class=\"doc_header\"><code>class</code> <code>A</code><a href=\"\" class=\"source_link\" style=\"float:right\">[source]</a></h2>\n",
       "\n",
       "> <code>A</code>()\n",
       "\n",
       "a class"
      ],
      "text/plain": [
       "<IPython.core.display.Markdown object>"
      ]
     },
     "metadata": {},
     "output_type": "display_data"
    }
   ],
   "source": [
    "%nbdev_show_doc c A"
   ]
  },
  {
   "cell_type": "code",
   "execution_count": null,
   "metadata": {},
   "outputs": [
    {
     "data": {
      "text/markdown": [
       "<h2 id=\"B\" class=\"doc_header\"><code>class</code> <code>B</code><a href=\"\" class=\"source_link\" style=\"float:right\">[source]</a></h2>\n",
       "\n",
       "> <code>B</code>()\n",
       "\n",
       "b class"
      ],
      "text/plain": [
       "<IPython.core.display.Markdown object>"
      ]
     },
     "metadata": {},
     "output_type": "display_data"
    }
   ],
   "source": [
    "%nbdev_show_doc B"
   ]
  },
  {
   "cell_type": "code",
   "execution_count": null,
   "metadata": {},
   "outputs": [
    {
     "data": {
      "text/markdown": [
       "<h2 id=\"A.NestedA\" class=\"doc_header\"><code>class</code> <code>A.NestedA</code><a href=\"\" class=\"source_link\" style=\"float:right\">[source]</a></h2>\n",
       "\n",
       "> <code>A.NestedA</code>()\n",
       "\n",
       "a nested class"
      ],
      "text/plain": [
       "<IPython.core.display.Markdown object>"
      ]
     },
     "metadata": {},
     "output_type": "display_data"
    },
    {
     "data": {
      "text/markdown": [
       "<h4 id=\"A.NestedA.e\" class=\"doc_header\"><code>A.NestedA.e</code><a href=\"__main__.py#L12\" class=\"source_link\" style=\"float:right\">[source]</a></h4>\n",
       "\n",
       "> <code>A.NestedA.e</code>(**`x`**:`NestedA`)\n",
       "\n",
       "patch e onto A.NestedA"
      ],
      "text/plain": [
       "<IPython.core.display.Markdown object>"
      ]
     },
     "metadata": {},
     "output_type": "display_data"
    }
   ],
   "source": [
    "%nbdev_show_doc A.NestedA *"
   ]
  },
  {
   "cell_type": "markdown",
   "metadata": {},
   "source": [
    "## is it a problem that \n",
    "- `%nbdev_show_doc` -> `A.NestedA.e` (this one gets doc linked)\n",
    "- `show_doc`-> `NestedA.e`"
   ]
  },
  {
   "cell_type": "code",
   "execution_count": null,
   "metadata": {},
   "outputs": [
    {
     "data": {
      "text/markdown": [
       "<h4 id=\"NestedA.e\" class=\"doc_header\"><code>NestedA.e</code><a href=\"__main__.py#L12\" class=\"source_link\" style=\"float:right\">[source]</a></h4>\n",
       "\n",
       "> <code>NestedA.e</code>(**`x`**:`NestedA`)\n",
       "\n",
       "patch e onto A.NestedA"
      ],
      "text/plain": [
       "<IPython.core.display.Markdown object>"
      ]
     },
     "metadata": {},
     "output_type": "display_data"
    }
   ],
   "source": [
    "show_doc(A.NestedA.e)"
   ]
  }
 ],
 "metadata": {
  "kernelspec": {
   "display_name": "Python 3",
   "language": "python",
   "name": "python3"
  }
 },
 "nbformat": 4,
 "nbformat_minor": 4
}
