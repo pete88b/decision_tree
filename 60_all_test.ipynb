{
 "cells": [
  {
   "cell_type": "code",
   "execution_count": null,
   "metadata": {},
   "outputs": [],
   "source": [
    "#default_exp test.all"
   ]
  },
  {
   "cell_type": "markdown",
   "metadata": {},
   "source": [
    "# Test \\_all_ \n",
    "\n",
    "> Does it matter that \\_all_ can't have line breaks?"
   ]
  },
  {
   "cell_type": "code",
   "execution_count": null,
   "metadata": {},
   "outputs": [],
   "source": [
    "#export\n",
    "def _not_included_by_default(): pass\n",
    "def _not_included_by_default2(): pass"
   ]
  },
  {
   "cell_type": "code",
   "execution_count": null,
   "metadata": {},
   "outputs": [],
   "source": [
    "#export\n",
    "_all_=[\"_not_included_by_default\", \n",
    "       \"_not_included_by_default2\"]"
   ]
  },
  {
   "cell_type": "markdown",
   "metadata": {},
   "source": [
    "## \\_all_ without line breaks\n",
    "Without line breaks, \\_all\\_ to \\_\\_all\\_\\_ works great (o:\n",
    "\n",
    "```python\n",
    "__all__ = ['_not_included_by_default', '_not_included_by_default2']\n",
    "\n",
    "# Cell\n",
    "def _not_included_by_default(): pass\n",
    "def _not_included_by_default2(): pass\n",
    "```\n",
    "\n",
    "## \\_all_ with line breaks\n",
    "\n",
    "With line breaks, \\_all\\_ doesn't get picked up by `_re_all_def` (... `([^\\n\\]]*) #  Catching group with anything except a ] or newline`)\n",
    "\n",
    "```python\n",
    "__all__ = []\n",
    "\n",
    "# Cell\n",
    "def _not_included_by_default(): pass\n",
    "def _not_included_by_default2(): pass\n",
    "\n",
    "# Cell\n",
    "_all_=[\"_not_included_by_default\",\n",
    "      \"_not_included_by_default2\"]\n",
    "```\n",
    "\n",
    "Note: `_re__all__def` uses a different catching group `([^\\]]*)` that allows line breaks"
   ]
  },
  {
   "cell_type": "code",
   "execution_count": null,
   "metadata": {},
   "outputs": [
    {
     "name": "stdout",
     "output_type": "stream",
     "text": [
      "Converted 00_core.ipynb.\n",
      "Converted 10_data.ipynb.\n",
      "Converted 20_models.ipynb.\n",
      "Converted 30_test_flag.ipynb.\n",
      "Converted 40_test_export.ipynb.\n",
      "Converted 50_test_doc.ipynb.\n",
      "Converted 60_all_test.ipynb.\n",
      "Converted index.ipynb.\n"
     ]
    }
   ],
   "source": [
    "#hide\n",
    "from nbdev.export import *\n",
    "notebook2script()"
   ]
  }
 ],
 "metadata": {
  "kernelspec": {
   "display_name": "Python 3",
   "language": "python",
   "name": "python3"
  }
 },
 "nbformat": 4,
 "nbformat_minor": 4
}
