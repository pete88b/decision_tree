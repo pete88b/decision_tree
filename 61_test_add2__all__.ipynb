{
 "cells": [
  {
   "cell_type": "code",
   "execution_count": null,
   "metadata": {},
   "outputs": [
    {
     "name": "stdout",
     "output_type": "stream",
     "text": [
      "Cells will be exported to decision_tree.test.add2__all__,\n",
      "unless a different module is specified after an export flag: `%nbdev_export special.module`\n"
     ]
    }
   ],
   "source": [
    "from nbdev import *\n",
    "%nbdev_default_export test.add2__all__"
   ]
  },
  {
   "cell_type": "markdown",
   "metadata": {},
   "source": [
    "# Test add to all\n",
    "\n",
    "> Testing `%nbdev_add2all` and showing how it works."
   ]
  },
  {
   "cell_type": "markdown",
   "metadata": {},
   "source": [
    "It used to be the case that everything in `_all_` had to be quoted.\n",
    "\n",
    "We now use `flags.parse_line` for `_all_` so you can use code completion etc"
   ]
  },
  {
   "cell_type": "code",
   "execution_count": null,
   "metadata": {},
   "outputs": [],
   "source": [
    "%nbdev_export\n",
    "def _not_included_by_default(): pass\n",
    "_all_=[_not_included_by_default]"
   ]
  },
  {
   "cell_type": "markdown",
   "metadata": {},
   "source": [
    "The cell above gets written to lib as:\n",
    "\n",
    "`__all__ = ['_not_included_by_default']`"
   ]
  },
  {
   "cell_type": "markdown",
   "metadata": {},
   "source": [
    "`%nbdev_add2all` can work with anything that could come after `_all_=`.\n",
    "\n",
    "You can use square brackets ..."
   ]
  },
  {
   "cell_type": "code",
   "execution_count": null,
   "metadata": {},
   "outputs": [],
   "source": [
    "%nbdev_export_and_show\n",
    "def _not_included_by_default2(): pass\n",
    "%nbdev_add2all [\"_not_included_by_default2\"]"
   ]
  },
  {
   "cell_type": "markdown",
   "metadata": {},
   "source": [
    "... but you don't have to"
   ]
  },
  {
   "cell_type": "code",
   "execution_count": null,
   "metadata": {},
   "outputs": [],
   "source": [
    "%nbdev_export\n",
    "%nbdev_add2all \"_not_included_by_default2\""
   ]
  },
  {
   "cell_type": "markdown",
   "metadata": {},
   "source": [
    "It's still true that only the first `_all_` or `%nbdev_add2all` gets picked up by export"
   ]
  },
  {
   "cell_type": "code",
   "execution_count": null,
   "metadata": {},
   "outputs": [],
   "source": [
    "%nbdev_export\n",
    "%nbdev_add2all \"_not_included_by_default2\"\n",
    "%nbdev_add2all \"any\" 'old' \"'rubbish'\""
   ]
  },
  {
   "cell_type": "markdown",
   "metadata": {},
   "source": [
    "You'll see warnings if the list of names is missing ..."
   ]
  },
  {
   "cell_type": "code",
   "execution_count": null,
   "metadata": {},
   "outputs": [
    {
     "name": "stdout",
     "output_type": "stream",
     "text": [
      "UsageError: List of names is missing. Usage `%nbdev_add2all name_1, name_2`\n"
     ]
    }
   ],
   "source": [
    "%nbdev_export\n",
    "%nbdev_add2all"
   ]
  },
  {
   "cell_type": "markdown",
   "metadata": {},
   "source": [
    "... or if names fail to `eval`"
   ]
  },
  {
   "cell_type": "code",
   "execution_count": null,
   "metadata": {},
   "outputs": [
    {
     "name": "stdout",
     "output_type": "stream",
     "text": [
      "UsageError: name 'bad_name' is not defined\n"
     ]
    }
   ],
   "source": [
    "%nbdev_add2all show_doc \"ok-because-I'm-quoted\" bad_name"
   ]
  },
  {
   "cell_type": "markdown",
   "metadata": {},
   "source": [
    "... but none of these warnings would cause `notebook2script` or `nbdev_build_lib` to fail.\n",
    "\n",
    "You can use space and/or comma separation"
   ]
  },
  {
   "cell_type": "code",
   "execution_count": null,
   "metadata": {},
   "outputs": [],
   "source": [
    "%nbdev_add2all _not_included_by_default _not_included_by_default2\n",
    "%nbdev_add2all _not_included_by_default, _not_included_by_default2,,,"
   ]
  },
  {
   "cell_type": "markdown",
   "metadata": {},
   "source": [
    "and have any amount of other code in a \"add2all\" cell"
   ]
  },
  {
   "cell_type": "code",
   "execution_count": null,
   "metadata": {},
   "outputs": [],
   "source": [
    "# this cell has comments\n",
    "%nbdev_export\n",
    "if True:\n",
    "    a=2\n",
    "%nbdev_add2all a\n",
    "# more comments ...\n",
    "if False: a=3"
   ]
  },
  {
   "cell_type": "markdown",
   "metadata": {},
   "source": [
    "As before, only zero indented flags get picked up.\n",
    "\n",
    "In the following example, `show_doc` would not be added to `__all__` and the module would be broken - because we export everything after `%nbdev_export` (including `%nbdev_add2all show_doc`)\n",
    "\n",
    "```python\n",
    "%nbdev_export\n",
    "if True:\n",
    "    %nbdev_add2all show_doc\n",
    "    _all_=[show_doc]\n",
    "```"
   ]
  },
  {
   "cell_type": "code",
   "execution_count": null,
   "metadata": {},
   "outputs": [
    {
     "name": "stdout",
     "output_type": "stream",
     "text": [
      "Converted 000_target_module.ipynb.\n",
      "Converted 001_exports_to_target_module.ipynb.\n",
      "Converted 002_target_module.ipynb.\n",
      "Converted 00_core.ipynb.\n",
      "Converted 10_data.ipynb.\n",
      "Converted 20_models.ipynb.\n",
      "Converted 30_test_flag.ipynb.\n",
      "Converted 40_test_export.ipynb.\n",
      "Converted 50_test_doc.ipynb.\n",
      "Converted 51_test_show_doc.ipynb.\n",
      "Converted 51_test_show_doc_MD.ipynb.\n",
      "Converted 60_all_test.ipynb.\n",
      "Converted 61_test_add2__all__.ipynb.\n",
      "Converted 70_multi_all_test_flag.ipynb.\n",
      "Converted 71_tensor_patch.ipynb.\n",
      "Converted 72_if__name__.ipynb.\n",
      "Converted 73_in_ipython.ipynb.\n",
      "Converted index.ipynb.\n"
     ]
    }
   ],
   "source": [
    "%nbdev_hide\n",
    "notebook2script()"
   ]
  }
 ],
 "metadata": {
  "kernelspec": {
   "display_name": "Python 3",
   "language": "python",
   "name": "python3"
  }
 },
 "nbformat": 4,
 "nbformat_minor": 4
}
