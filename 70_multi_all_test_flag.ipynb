{
 "cells": [
  {
   "cell_type": "markdown",
   "metadata": {},
   "source": [
    "# Used for testing multiple \"all\" test flags"
   ]
  },
  {
   "cell_type": "code",
   "execution_count": null,
   "metadata": {},
   "outputs": [],
   "source": [
    "from nbdev import *\n",
    "from datetime import datetime"
   ]
  },
  {
   "cell_type": "code",
   "execution_count": null,
   "metadata": {},
   "outputs": [],
   "source": [
    "#all_cython"
   ]
  },
  {
   "cell_type": "code",
   "execution_count": null,
   "metadata": {},
   "outputs": [],
   "source": [
    "#all_slow"
   ]
  },
  {
   "cell_type": "code",
   "execution_count": null,
   "metadata": {},
   "outputs": [],
   "source": [
    "%nbdev_cython_test all\n",
    "%nbdev_slow_test all\n",
    "print('some code in the all test flag cell')"
   ]
  },
  {
   "cell_type": "code",
   "execution_count": null,
   "metadata": {},
   "outputs": [],
   "source": [
    "with open('70_multi_all_test_flag.txt','w') as f:\n",
    "    f.write(str(datetime.now())+'\\n')"
   ]
  },
  {
   "cell_type": "markdown",
   "metadata": {},
   "source": [
    "The next section checks that flagged tests are run correctly. Any of the following should pass;\n",
    "```\n",
    "clear\n",
    "\n",
    "rm 70_multi_all_test_flag.txt\n",
    "nbdev_test_nbs --flags \"slow\" --fname 70_multi_all_test_flag.ipynb\n",
    "cat 70_multi_all_test_flag.txt\n",
    "\n",
    "nbdev_test_nbs --flags \"cython\" --fname 70_multi_all_test_flag.ipynb\n",
    "cat 70_multi_all_test_flag.txt\n",
    "\n",
    "nbdev_test_nbs --flags \"cython slow\" --fname 70_multi_all_test_flag.ipynb\n",
    "cat 70_multi_all_test_flag.txt\n",
    "\n",
    "```\n",
    "\n",
    "but these should fail;\n",
    "\n",
    "```\n",
    "export EXEPECTED_TST_FLAGS=\"slow\"\n",
    "nbdev_test_nbs --flags \"cython slow\" --fname 30_test_flag.ipynb\n",
    "\n",
    "export EXEPECTED_TST_FLAGS=\"cython slow\"\n",
    "nbdev_test_nbs --flags \"slow\" --fname 30_test_flag.ipynb\n",
    "\n",
    "export EXEPECTED_TST_FLAGS=\"cython slow\"\n",
    "nbdev_test_nbs --fname 30_test_flag.ipynb\n",
    "```"
   ]
  }
 ],
 "metadata": {
  "kernelspec": {
   "display_name": "Python 3",
   "language": "python",
   "name": "python3"
  }
 },
 "nbformat": 4,
 "nbformat_minor": 4
}
