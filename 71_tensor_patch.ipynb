{
 "cells": [
  {
   "cell_type": "code",
   "execution_count": null,
   "metadata": {},
   "outputs": [],
   "source": [
    "#default_exp test.tensor_patch"
   ]
  },
  {
   "cell_type": "markdown",
   "metadata": {},
   "source": [
    "# tensor patch\n",
    "\n",
    "> Test page for show_doc when patching."
   ]
  },
  {
   "cell_type": "code",
   "execution_count": null,
   "metadata": {},
   "outputs": [],
   "source": [
    "#export\n",
    "from fastai2.torch_basics import *\n",
    "from nbdev.showdoc import *"
   ]
  },
  {
   "cell_type": "code",
   "execution_count": null,
   "metadata": {},
   "outputs": [],
   "source": [
    "#export\n",
    "@patch\n",
    "def tsne(x:Tensor, k=2, seed=47):\n",
    "    \"TSNE embeddings using `sklearn`\""
   ]
  },
  {
   "cell_type": "code",
   "execution_count": null,
   "metadata": {},
   "outputs": [
    {
     "data": {
      "text/markdown": [
       "<h4 id=\"Tensor.tsne\" class=\"doc_header\"><code>Tensor.tsne</code><a href=\"__main__.py#L2\" class=\"source_link\" style=\"float:right\">[source]</a></h4>\n",
       "\n",
       "> <code>Tensor.tsne</code>(**`x`**:`Tensor`, **`k`**=*`2`*, **`seed`**=*`47`*)\n",
       "\n",
       "TSNE embeddings using `sklearn`"
      ],
      "text/plain": [
       "<IPython.core.display.Markdown object>"
      ]
     },
     "metadata": {},
     "output_type": "display_data"
    }
   ],
   "source": [
    "show_doc(Tensor.tsne)"
   ]
  },
  {
   "cell_type": "markdown",
   "metadata": {},
   "source": [
    "`nbdev_build_docs` will fail for this nb\n",
    "``` \n",
    "converting: /home/peter/github/pete88b/decision_tree/71_tensor_patch.ipynb\n",
    "An error occurred while executing the following cell:\n",
    "------------------\n",
    "show_doc(Tensor.tsne)\n",
    "------------------\n",
    "NameError: name 'Tensor' is not defined\n",
    "```\n",
    "\n",
    "When converting a notebook, nbdev will run cells containing `show_doc` or `from LIB_NAME` style imports.\n",
    "\n",
    "We can work around this by adding the following to `imports.py`\n",
    "```python\n",
    "from fastai2.torch_basics import *\n",
    "```\n",
    "and putting this in the nb (anywhere before the `show_doc` call)\n",
    "```python\n",
    "from decision_tree.imports import *\n",
    "```"
   ]
  }
 ],
 "metadata": {
  "kernelspec": {
   "display_name": "Python 3",
   "language": "python",
   "name": "python3"
  }
 },
 "nbformat": 4,
 "nbformat_minor": 4
}
