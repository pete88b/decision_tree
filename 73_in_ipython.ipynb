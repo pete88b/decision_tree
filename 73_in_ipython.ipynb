{
 "cells": [
  {
   "cell_type": "code",
   "execution_count": null,
   "metadata": {},
   "outputs": [],
   "source": [
    "#default_exp test.in_ipython"
   ]
  },
  {
   "cell_type": "markdown",
   "metadata": {},
   "source": [
    "# `IN_IPYTHON` can be True when running in plain python"
   ]
  },
  {
   "cell_type": "code",
   "execution_count": null,
   "metadata": {},
   "outputs": [],
   "source": [
    "#export\n",
    "# current implementation copied from imports.py\n",
    "import os\n",
    "def in_ipython():\n",
    "    \"Check if the code is running in the ipython environment (jupyter including)\"\n",
    "    program_name = os.path.basename(os.getenv('_', ''))\n",
    "    if ('jupyter-notebook' in program_name or # jupyter-notebook\n",
    "        'ipython'          in program_name or # ipython\n",
    "        'JPY_PARENT_PID'   in os.environ):    # ipython-notebook\n",
    "        return True\n",
    "    else:\n",
    "        return False"
   ]
  },
  {
   "cell_type": "code",
   "execution_count": null,
   "metadata": {},
   "outputs": [
    {
     "name": "stdout",
     "output_type": "stream",
     "text": [
      "\n",
      "as-is True\n"
     ]
    }
   ],
   "source": [
    "#export\n",
    "print('\\nas-is', in_ipython())"
   ]
  },
  {
   "cell_type": "code",
   "execution_count": null,
   "metadata": {},
   "outputs": [],
   "source": [
    "#export\n",
    "# it might be better to use get_ipython or __IPYTHON__\n",
    "# https://ipython.org/ipython-doc/rel-0.10.2/html/interactive/reference.html\n",
    "def in_ipython2():\n",
    "    try: get_ipython(); return True\n",
    "    except: return False"
   ]
  },
  {
   "cell_type": "code",
   "execution_count": null,
   "metadata": {},
   "outputs": [
    {
     "name": "stdout",
     "output_type": "stream",
     "text": [
      "to-be True\n"
     ]
    }
   ],
   "source": [
    "#export\n",
    "print('to-be', in_ipython2())"
   ]
  },
  {
   "cell_type": "code",
   "execution_count": null,
   "metadata": {},
   "outputs": [
    {
     "name": "stdout",
     "output_type": "stream",
     "text": [
      "Am I in a notebook? True\n"
     ]
    }
   ],
   "source": [
    "#export\n",
    "from nbdev.imports import IN_NOTEBOOK\n",
    "print('Am I in a notebook?', IN_NOTEBOOK)"
   ]
  },
  {
   "cell_type": "code",
   "execution_count": null,
   "metadata": {},
   "outputs": [
    {
     "name": "stdout",
     "output_type": "stream",
     "text": [
      "Converted 73_in_ipython.ipynb.\n"
     ]
    }
   ],
   "source": [
    "from nbdev.export import notebook2script\n",
    "notebook2script('73_in_ipython.ipynb')"
   ]
  },
  {
   "cell_type": "code",
   "execution_count": null,
   "metadata": {},
   "outputs": [
    {
     "name": "stdout",
     "output_type": "stream",
     "text": [
      "\u001b[22;0t\u001b]0;IPython: pete88b/decision_tree\u0007\n",
      "as-is True\n",
      "to-be True\n",
      "Am I in a notebook? False\n"
     ]
    }
   ],
   "source": [
    "!ipython decision_tree/test/in_ipython.py "
   ]
  },
  {
   "cell_type": "code",
   "execution_count": null,
   "metadata": {},
   "outputs": [
    {
     "name": "stdout",
     "output_type": "stream",
     "text": [
      "\n",
      "as-is True\n",
      "to-be False\n",
      "Traceback (most recent call last):\n",
      "  File \"decision_tree/test/in_ipython.py\", line 32, in <module>\n",
      "    from nbdev.imports import IN_NOTEBOOK\n",
      "  File \"/home/peter/github/pete88b/nbdev/nbdev/__init__.py\", line 6, in <module>\n",
      "    from .flags import *\n",
      "  File \"/home/peter/github/pete88b/nbdev/nbdev/flags.py\", line 90, in <module>\n",
      "    for fn in fns: register_line_magic(fn)\n",
      "  File \"/home/peter/anaconda3/envs/nbdev-fork/lib/python3.7/site-packages/IPython/core/magic.py\", line 229, in magic_deco\n",
      "    raise NameError('Decorator can only run in context where '\n",
      "NameError: Decorator can only run in context where `get_ipython` exists\n"
     ]
    }
   ],
   "source": [
    "!python decision_tree/test/in_ipython.py "
   ]
  },
  {
   "cell_type": "markdown",
   "metadata": {},
   "source": [
    "## why is it a problem\n",
    "\n",
    "`__init__.py` and `flags.py` use `IN_IPYTHON` to know if magic flags should be created or not.\n",
    "\n",
    "In the example above, `IN_IPYTHON` is True but we fail to create magics because we can't access the `get_ipython` function."
   ]
  }
 ],
 "metadata": {
  "kernelspec": {
   "display_name": "Python 3",
   "language": "python",
   "name": "python3"
  }
 },
 "nbformat": 4,
 "nbformat_minor": 4
}
