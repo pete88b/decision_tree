{
 "cells": [
  {
   "cell_type": "code",
   "execution_count": null,
   "metadata": {},
   "outputs": [
    {
     "name": "stdout",
     "output_type": "stream",
     "text": [
      "Cells will be exported to decision_tree.test.from_future,\n",
      "unless a different module is specified after an export flag: `%nbdev_export special.module`\n"
     ]
    }
   ],
   "source": [
    "from nbdev import *\n",
    "%nbdev_default_export test.from_future"
   ]
  },
  {
   "cell_type": "markdown",
   "metadata": {},
   "source": [
    "You might want to have a cell just for `__future__` imports, but there are no restrictions"
   ]
  },
  {
   "cell_type": "code",
   "execution_count": null,
   "metadata": {},
   "outputs": [],
   "source": [
    "from __future__ import annotations\n",
    "%nbdev_export\n",
    "# borrowed from https://realpython.com/python37-new-features/\n",
    "class Tree:\n",
    "    def __init__(self, left: Tree, right: Tree) -> None:\n",
    "        self.left = left\n",
    "        self.right = right"
   ]
  },
  {
   "cell_type": "markdown",
   "metadata": {},
   "source": [
    "These cells just run like normal when testing with `nbdev_test_nbs`"
   ]
  },
  {
   "cell_type": "code",
   "execution_count": null,
   "metadata": {},
   "outputs": [],
   "source": [
    "assert Tree(Tree(None,None),None) is not None"
   ]
  },
  {
   "cell_type": "markdown",
   "metadata": {},
   "source": [
    "You can use special comments to export a cell containing `__future__` imports"
   ]
  },
  {
   "cell_type": "code",
   "execution_count": null,
   "metadata": {},
   "outputs": [],
   "source": [
    "# export\n",
    "from __future__ import unicode_literals\n",
    "from __future__ import generator_stop"
   ]
  },
  {
   "cell_type": "markdown",
   "metadata": {},
   "source": [
    "If you see `SyntaxError: from __future__ imports must occur at the beginning of the file`:\n",
    "\n",
    "```python\n",
    "%nbdev_export\n",
    "from __future__ import annotations\n",
    "```\n",
    "\n",
    "you'll need to move the `__future__` import to the top of the cell:\n",
    "\n",
    "```python\n",
    "from __future__ import annotations\n",
    "%nbdev_export\n",
    "```"
   ]
  },
  {
   "cell_type": "code",
   "execution_count": null,
   "metadata": {},
   "outputs": [],
   "source": [
    "%nbdev_export\n",
    "%nbdev_add2all annotations\n",
    "# this is just here to demo nb->lib and lib->nb when using add2all"
   ]
  },
  {
   "cell_type": "code",
   "execution_count": null,
   "metadata": {},
   "outputs": [],
   "source": [
    "# uncomment and run this cell after kernel restart to show module works\n",
    "# from decision_tree.test.from_future import *\n",
    "# Tree(Tree(None,None),None), annotations"
   ]
  },
  {
   "cell_type": "code",
   "execution_count": null,
   "metadata": {},
   "outputs": [
    {
     "name": "stdout",
     "output_type": "stream",
     "text": [
      "Converted 000_target_module.ipynb.\n",
      "Converted 001_exports_to_target_module.ipynb.\n",
      "Converted 002_target_module.ipynb.\n",
      "Converted 00_core.ipynb.\n",
      "Converted 10_data.ipynb.\n",
      "Converted 20_models.ipynb.\n",
      "Converted 30_test_flag.ipynb.\n",
      "Converted 40_test_export.ipynb.\n",
      "Converted 50_test_doc.ipynb.\n",
      "Converted 51_test_show_doc.ipynb.\n",
      "Converted 60_all_test.ipynb.\n",
      "Converted 61_test_add2__all__.ipynb.\n",
      "Converted 70_multi_all_test_flag.ipynb.\n",
      "Converted 71_tensor_patch.ipynb.\n",
      "Converted 72_if__name__.ipynb.\n",
      "Converted 73_in_ipython.ipynb.\n",
      "Converted 74_from_future_import.ipynb.\n",
      "Converted 80_test_coverage.ipynb.\n",
      "Converted index.ipynb.\n"
     ]
    }
   ],
   "source": [
    "%nbdev_hide\n",
    "notebook2script()"
   ]
  }
 ],
 "metadata": {
  "kernelspec": {
   "display_name": "Python 3",
   "language": "python",
   "name": "python3"
  }
 },
 "nbformat": 4,
 "nbformat_minor": 4
}
