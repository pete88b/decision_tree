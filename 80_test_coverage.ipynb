{
 "cells": [
  {
   "cell_type": "markdown",
   "metadata": {},
   "source": [
    "# Creating code coverage reports for an nbdev project\n",
    "\n",
    "We can run tests in parallel and get coverage with [pytest-cov](https://github.com/pytest-dev/pytest-cov).\n",
    "\n",
    "If you'd like to try this:\n",
    "- you might need to use an [editable install of nbdev](https://github.com/fastai/nbdev/#installing)\n",
    "- install pytest-cov and its dependencies\n",
    "- copy [test_nbs.py](https://github.com/pete88b/decision_tree/blob/master/test_nbs.py) to your nbdev project\n",
    "- then run `pytest --cov=[your lib name]`\n",
    "\n",
    "Feel free to join [the discussion](https://forums.fast.ai/t/nbdev-code-coverage-n-tests/73993/6) (o:"
   ]
  },
  {
   "cell_type": "markdown",
   "metadata": {},
   "source": [
    "# Overview of this module\n",
    "\n",
    "**Note: This is probably not the best way to get coverage - but I'm leaving this content in case it's useful**\n",
    "\n",
    "**Note:** Until the next `nbdev` release you need to use an [editable install](https://github.com/fastai/nbdev/#installing), as this module uses new functions like `split_flags_and_code`.\n",
    "\n",
    "Feel free to use `pytest` etc but to follow these examples, you'll just need `coverage`.\n",
    "\n",
    "This notebook creates `testcoverage.py` which is not tied to the decision_tree project (so you can just download [testcoverage.py](https://github.com/pete88b/decision_tree/blob/master/decision_tree/testcoverage.py) if you like)\n",
    "\n",
    "Running `testcoverage.py` will:\n",
    "- create a new folder in your nbdev project `[lib_path]_test`\n",
    "- delete all test scripts in `[lib_path]_test`\n",
    "- write a test script to `[lib_path]_test` for each notebook in `[nbs_path]`\n",
    "    - and a `run_all.py` to run all test scripts in one go\n",
    "\n",
    "To run create a test coverage report:\n",
    "- cd to `nbs_path` of the project you want to test\n",
    "- create test scripts with `python [full path ...]/testcoverage.py` \n",
    "- `coverage run --source=[lib_path] [lib_path]_test/run_all.py`\n",
    "- `coverage report`\n",
    "\n",
    "Creating a test coverage report for fastai2 in my env looks like:\n",
    "```\n",
    "cd /home/peter/github/pete88b/fastai2/nbs\n",
    "\n",
    "python /home/peter/github/pete88b/decision_tree/decision_tree/testcoverage.py\n",
    "\n",
    "coverage run --source=/home/peter/github/pete88b/fastai2/fastai2 /home/peter/github/pete88b/fastai2/fastai2_test/run_all.py\n",
    "\n",
    "coverage report\n",
    "```\n",
    "*Note: this &uarr; fails very quickly as fastai2 tests use things that are not available in plain python.*\n",
    "\n",
    "## What next?\n",
    "- see if running tests in plain python is useful\n",
    "    - it might be true that the tests of some/most projects don't need any ipython\n",
    "- make artifacts (like images/mnist3.png) available to the test scripts\n",
    "    - so you don't have to be in the nbs folder to run tests\n",
    "- see if we can get coverage when running tests with ipython\n",
    "    - this looks promising https://github.com/computationalmodelling/nbval\n",
    "- see if there is a nice way to separate plain python tests and ipython tests?\n",
    "\n",
    "## Details details ...\n",
    "\n",
    "I chose to \"import\" the module being tested (rather than write all code cells to the test script) so that:\n",
    "- we are testing the library created by nbdev\n",
    "    - because the things we deliver are .py files, I can't help thinking that these are what we should be testing\n",
    "- we could use the test scripts to test a pip installed version of the library\n",
    "    - i.e. we are testing the result of the full build, package and delivery process"
   ]
  },
  {
   "cell_type": "code",
   "execution_count": null,
   "metadata": {},
   "outputs": [
    {
     "name": "stdout",
     "output_type": "stream",
     "text": [
      "Cells will be exported to decision_tree.testcoverage,\n",
      "unless a different module is specified after an export flag: `%nbdev_export special.module`\n"
     ]
    }
   ],
   "source": [
    "from nbdev import *\n",
    "%nbdev_default_export testcoverage"
   ]
  },
  {
   "cell_type": "code",
   "execution_count": null,
   "metadata": {},
   "outputs": [],
   "source": [
    "%nbdev_export\n",
    "from nbdev.export import *\n",
    "from nbdev.imports import *"
   ]
  },
  {
   "cell_type": "code",
   "execution_count": null,
   "metadata": {},
   "outputs": [],
   "source": [
    "%nbdev_export\n",
    "def write_imports(test_file,exports):\n",
    "    \"write import statements to the test script for all modules exported to by the nb we're converting\"\n",
    "    # export is None if cell doesn't have an nbdev export flag (%nbdev_export, %nbdev_export_internal ...)\n",
    "    for export in {export[0] for export in exports if export}:\n",
    "        export_parts=export.split('.')\n",
    "        b=export_parts.pop()\n",
    "        export_parts.insert(0,Config().lib_name)\n",
    "        a='.'.join(export_parts)\n",
    "        test_file.write(f\"\"\"\n",
    "from {a} import {b}\n",
    "for o in dir({b}):\n",
    "    exec(f'from {a}.{b} import {{o}}')\n",
    "        \"\"\")"
   ]
  },
  {
   "cell_type": "markdown",
   "metadata": {},
   "source": [
    "the test scipt will import everything returned by `dir(module)` because we need the test code to run as if it's in the module we're testing"
   ]
  },
  {
   "cell_type": "code",
   "execution_count": null,
   "metadata": {},
   "outputs": [],
   "source": [
    "%nbdev_export\n",
    "def write_test_cell_callback(i,cell,export,code):\n",
    "    \"Return the code to be written to the test script or `None` to not write anything for `cell`\"\n",
    "    things_to_exclude = ['notebook2script','show_doc']\n",
    "    if export: return None # if it's exported to the library, don't add to test script\n",
    "    for thing_to_exclude in things_to_exclude: # TODO: make this better\n",
    "        if thing_to_exclude in code: return None \n",
    "    return re.sub(r'^\\s*(%|!)', r'#\\1', code, flags=re.MULTILINE)"
   ]
  },
  {
   "cell_type": "code",
   "execution_count": null,
   "metadata": {},
   "outputs": [],
   "source": [
    "%nbdev_export\n",
    "def write_test_cells(test_file,nb,exports):\n",
    "    \"Writes the source of code cells to the test script\"\n",
    "    sep = '\\n'* (int(Config().get('cell_spacing', '1'))+1)\n",
    "    cells = [(i,c,e) for i,(c,e) in enumerate(zip(nb['cells'],exports)) if c['cell_type']=='code']\n",
    "    for i,c,e in cells:\n",
    "        code_lines = split_flags_and_code(c)[1]\n",
    "        code = sep + '\\n'.join(code_lines)\n",
    "        code = re.sub(r' +$', '', code, flags=re.MULTILINE)\n",
    "        code = write_test_cell_callback(i,c,e,code)\n",
    "        if code: test_file.write(code)"
   ]
  },
  {
   "cell_type": "code",
   "execution_count": null,
   "metadata": {},
   "outputs": [],
   "source": [
    "%nbdev_export\n",
    "def notebook2testscript():\n",
    "    \"Convert notebooks to test scripts\"\n",
    "    test_path=Path(str(Config().lib_path)+'_test')\n",
    "    test_path.mkdir(parents=True, exist_ok=True)\n",
    "    for old_file in test_path.glob('test_*.py'): old_file.unlink()\n",
    "    print('Removed all test_*.py files from',test_path)\n",
    "    files = [f for f in Config().nbs_path.glob('*.ipynb') if not f.name.startswith('_')]\n",
    "    for nb_file in sorted(files): \n",
    "        test_file_name = test_path/f'test_{nb_file.stem.replace(\"-\",\"_\")}.py'\n",
    "        print('Converting', nb_file.name, 'to\\n  ', test_file_name)\n",
    "        file_path = os.path.relpath(nb_file, Config().config_file.parent).replace('\\\\', '/')\n",
    "        with open(test_file_name, 'w', encoding='utf8') as test_file:\n",
    "            test_file.write(f\"# AUTOGENERATED! DO NOT EDIT! File to edit: {file_path} (unless otherwise specified).\\n\")\n",
    "            nb=read_nb(nb_file)\n",
    "            default_export=find_default_export(nb['cells'])\n",
    "            exports = [is_export(c, default_export) for c in nb['cells']]\n",
    "            write_imports(test_file,exports)\n",
    "            write_test_cells(test_file,nb,exports)\n",
    "    print('Writing',test_path/'run_all.py')\n",
    "    with open(test_path/'run_all.py', 'w', encoding='utf8') as run_all_file:\n",
    "        for nb_file in sorted(files): run_all_file.write(f'import test_{nb_file.stem.replace(\"-\",\"_\")}\\n')"
   ]
  },
  {
   "cell_type": "code",
   "execution_count": null,
   "metadata": {},
   "outputs": [],
   "source": [
    "%nbdev_export\n",
    "if __name__ == \"__main__\" and not IN_NOTEBOOK:\n",
    "    notebook2testscript()"
   ]
  },
  {
   "cell_type": "code",
   "execution_count": null,
   "metadata": {},
   "outputs": [
    {
     "name": "stdout",
     "output_type": "stream",
     "text": [
      "Converted 000_target_module.ipynb.\n",
      "Converted 001_exports_to_target_module.ipynb.\n",
      "Converted 002_target_module.ipynb.\n",
      "Converted 00_core.ipynb.\n",
      "Converted 10_data.ipynb.\n",
      "Converted 20_models.ipynb.\n",
      "Converted 21_models-extra.ipynb.\n",
      "Converted 30_test_flag.ipynb.\n",
      "Converted 40_test_export.ipynb.\n",
      "Converted 50_test_doc.ipynb.\n",
      "Converted 51_test_show_doc.ipynb.\n",
      "Converted 60_all_test.ipynb.\n",
      "Converted 61_test_add2__all__.ipynb.\n",
      "Converted 70_multi_all_test_flag.ipynb.\n",
      "Converted 71_tensor_patch.ipynb.\n",
      "Converted 72_if__name__.ipynb.\n",
      "Converted 73_in_ipython.ipynb.\n",
      "Converted 80_test_coverage.ipynb.\n",
      "Converted 81_test_coverage.ipynb.\n",
      "Converted index.ipynb.\n"
     ]
    }
   ],
   "source": [
    "%nbdev_hide\n",
    "notebook2script()"
   ]
  },
  {
   "cell_type": "markdown",
   "metadata": {},
   "source": [
    "# PB notes\n",
    "- convert all notebooks that don't start with `_` \n",
    "    - import default_export of notebook\n",
    "    - import things exported to other modules \n",
    "    - handle nbdev test flags - TODO\n",
    "    - create `test_[notebook name].py`\n",
    "    - write code of test cells to `test_[notebook name].py`\n",
    "        - exclude show_doc, notebook2script, cmd calls etc TODO"
   ]
  },
  {
   "cell_type": "markdown",
   "metadata": {},
   "source": [
    "```\n",
    "coverage run --source=/home/peter/github/pete88b/decision_tree/decision_tree /home/peter/github/pete88b/decision_tree/decision_tree_test/test_00_core.py\n",
    "\n",
    "coverage run --source=/home/peter/github/pete88b/decision_tree/decision_tree /home/peter/github/pete88b/decision_tree/decision_tree_test/run_all.py\n",
    "```"
   ]
  },
  {
   "cell_type": "markdown",
   "metadata": {},
   "source": [
    "```\n",
    "cd /home/peter/github/pete88b/decision_tree\n",
    "\n",
    "python /home/peter/github/pete88b/decision_tree/decision_tree/testcoverage.py\n",
    "\n",
    "coverage run --source=/home/peter/github/pete88b/decision_tree/decision_tree /home/peter/github/pete88b/decision_tree/decision_tree_test/run_all.py\n",
    "\n",
    "coverage report\n",
    "```"
   ]
  }
 ],
 "metadata": {
  "kernelspec": {
   "display_name": "Python 3",
   "language": "python",
   "name": "python3"
  }
 },
 "nbformat": 4,
 "nbformat_minor": 4
}
